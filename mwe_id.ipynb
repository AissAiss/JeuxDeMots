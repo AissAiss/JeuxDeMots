{
 "cells": [
  {
   "cell_type": "code",
   "execution_count": 4,
   "metadata": {},
   "outputs": [],
   "source": [
    "class Trie(object):\n",
    "    def __init__(self,wd=\"\",end=False):\n",
    "        self.br={}; self.end=end\n",
    "        if wd!=\"\": self.addword(wd)\n",
    "    def __repr__(self): # Uniquement pour les tests\n",
    "        br=self.br.__repr__()\n",
    "        m='E,' if self.end else \"\"\n",
    "        return \"T[\"+m+br+\"]\"\n",
    "\n",
    "    def addword(self,wd):\n",
    "        br=self.br\n",
    "        if wd:\n",
    "            c=wd[0]; rst=wd[1:] # Découpage essentiel\n",
    "            if c not in br: \n",
    "                br[c]=Trie() # Nouvelle branche\n",
    "            br[c].addword(rst)\n",
    "        else: \n",
    "            self.end=True # Marqueur de la fin       \n",
    "\n",
    "    def searchword(self,wd):\n",
    "        if self.search(wd): \n",
    "            print(str(wd) + \" is in Trie\")\n",
    "            self.sufix(wd)\n",
    "        else:\n",
    "            print(str(wd) + \" is not in Trie\")\n",
    "\n",
    "    def sufix(self, wd):\n",
    "        br = self.br\n",
    "        for c in wd:\n",
    "            br = br[c]\n",
    "\n",
    "        print(br.words())\n",
    "\n",
    "    def search(self,wd):\n",
    "        br=self.br\n",
    "        if wd:\n",
    "            c=wd[0]; rst=wd[1:] # Découpage essentiel\n",
    "            if c in br : \n",
    "                if len(rst) == 0: \n",
    "                    return True\n",
    "                else : \n",
    "                    return br[c].search(rst)\n",
    "            else : \n",
    "                return False\n",
    "            \n",
    "\n",
    "    def __getitem__(self,c):  # Objet émule une liste/dict.\n",
    "        return self.br[c]\n",
    "\n",
    "    # Renvoie tout les mots du dictionnaire\n",
    "    def words(self):\n",
    "        br=self.br\n",
    "        l=[]\n",
    "        for c in br:\n",
    "            w=br[c].words() # Les suffixes du mot en question\n",
    "            if w==[]: \n",
    "                x=[c] # Si vide\n",
    "            else:\n",
    "                x=[c+h for h in w] # Non vide. c à la tête\n",
    "                if br[c].end: \n",
    "                    x+=[c] # Cas spécial ! \n",
    "            l+=x\n",
    "        return l"
   ]
  },
  {
   "cell_type": "code",
   "execution_count": 9,
   "metadata": {},
   "outputs": [
    {
     "name": "stdout",
     "output_type": "stream",
     "text": [
      "T[{23: T[{154329: T[E,{}], 1329: T[E,{}], 15: T[E,{}]}], 2: T[{4329: T[E,{}]}]}]\n",
      "[154352, 1352, 38, 4331]\n"
     ]
    }
   ],
   "source": [
    "t=Trie() \n",
    "t.addword([23, 154329])\n",
    "t.addword([23, 1329])\n",
    "t.addword([2, 4329])\n",
    "t.addword([23, 15])\n",
    "\n",
    "rs=t.words()\n",
    "\n",
    "print(t)\n",
    "print(rs)"
   ]
  },
  {
   "cell_type": "code",
   "execution_count": 11,
   "metadata": {},
   "outputs": [
    {
     "name": "stdout",
     "output_type": "stream",
     "text": [
      "[2] is in Trie\n",
      "[4329]\n"
     ]
    }
   ],
   "source": [
    "t.searchword([2])"
   ]
  },
  {
   "cell_type": "code",
   "execution_count": 1,
   "metadata": {},
   "outputs": [],
   "source": [
    "import pandas as pd\n",
    "import DataExtractor"
   ]
  },
  {
   "cell_type": "code",
   "execution_count": null,
   "metadata": {},
   "outputs": [],
   "source": [
    "f_in = open('mwe.csv', 'r')\n",
    "Lines = f_in.readlines()\n",
    "f_in.close() \n",
    "\n",
    "f_out = open(\"mwe_id_word.csv\", \"a\")\n",
    "\n",
    "  \n",
    "for line in Lines:\n",
    "    linesplit = line.split(\";\")\n",
    "    f_out.write(linesplit[0] + \";\" + linesplit[1].replace('\\\"', '') + \"\\n\")\n",
    "\n",
    "f_out.close()"
   ]
  },
  {
   "cell_type": "code",
   "execution_count": null,
   "metadata": {},
   "outputs": [],
   "source": [
    "df = pd.read_csv(\"mwe_id_word.csv\", sep=\";\")"
   ]
  },
  {
   "cell_type": "code",
   "execution_count": null,
   "metadata": {},
   "outputs": [],
   "source": [
    "df"
   ]
  },
  {
   "cell_type": "code",
   "execution_count": null,
   "metadata": {},
   "outputs": [],
   "source": [
    "for index, row in df.iterrows():\n",
    "    print(row['id'], row['word'])"
   ]
  },
  {
   "cell_type": "code",
   "execution_count": null,
   "metadata": {},
   "outputs": [],
   "source": [
    "df.loc[df['id'] == 9]"
   ]
  },
  {
   "cell_type": "code",
   "execution_count": null,
   "metadata": {},
   "outputs": [],
   "source": [
    "df.loc[df['word'] == \"Maria Callas\"]"
   ]
  }
 ],
 "metadata": {
  "kernelspec": {
   "display_name": "Python 3.9.0 ('ML1')",
   "language": "python",
   "name": "python3"
  },
  "language_info": {
   "codemirror_mode": {
    "name": "ipython",
    "version": 3
   },
   "file_extension": ".py",
   "mimetype": "text/x-python",
   "name": "python",
   "nbconvert_exporter": "python",
   "pygments_lexer": "ipython3",
   "version": "3.9.0"
  },
  "orig_nbformat": 4,
  "vscode": {
   "interpreter": {
    "hash": "cdf400e2b2cf645b2ec6a448fcb5b3c1b3d3d5834714944466c9c0370880fa51"
   }
  }
 },
 "nbformat": 4,
 "nbformat_minor": 2
}
