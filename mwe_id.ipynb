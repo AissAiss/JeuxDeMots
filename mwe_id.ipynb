{
 "cells": [
  {
   "cell_type": "code",
   "execution_count": 4,
   "metadata": {},
   "outputs": [],
   "source": [
    "import JDM"
   ]
  },
  {
   "cell_type": "code",
   "execution_count": 5,
   "metadata": {},
   "outputs": [
    {
     "name": "stdout",
     "output_type": "stream",
     "text": [
      "T[{'avant': T[{'toi': T[E,{}], 'lui': T[E,{}], 'eux': T[E,{}]}], 'pour': T[{'lui': T[E,{}]}]}]\n",
      "['avant toi', 'avant lui', 'avant eux', 'pour lui']\n"
     ]
    }
   ],
   "source": [
    "t=JDM.Trie() \n",
    "t.addword([\"avant\", \"toi\"])\n",
    "t.addword([\"avant\", \"lui\"])\n",
    "t.addword([\"pour\", \"lui\"])\n",
    "t.addword([\"avant\", \"eux\"])\n",
    "\n",
    "rs=t.words()\n",
    "\n",
    "print(t)\n",
    "print(rs)"
   ]
  },
  {
   "cell_type": "code",
   "execution_count": 6,
   "metadata": {},
   "outputs": [
    {
     "name": "stdout",
     "output_type": "stream",
     "text": [
      "['avant'] is in Trie\n",
      "['toi', 'lui', 'eux']\n"
     ]
    }
   ],
   "source": [
    "t.searchword([\"avant\"])"
   ]
  },
  {
   "cell_type": "markdown",
   "metadata": {},
   "source": [
    "# Construction de l'arbre d'id"
   ]
  },
  {
   "cell_type": "code",
   "execution_count": 7,
   "metadata": {},
   "outputs": [],
   "source": [
    "import pandas as pd"
   ]
  },
  {
   "cell_type": "code",
   "execution_count": 8,
   "metadata": {},
   "outputs": [],
   "source": [
    "JDM.Terme.initMyLocalDataBase() "
   ]
  },
  {
   "cell_type": "code",
   "execution_count": 10,
   "metadata": {},
   "outputs": [],
   "source": [
    "f_in = open('MWE/mwe.csv', 'r')\n",
    "Lines = f_in.readlines()\n",
    "f_in.close() \n",
    "\n",
    "f_out = open(\"MWE/mwe_id_word.csv\", \"a\")\n",
    "\n",
    "  \n",
    "for line in Lines:\n",
    "    linesplit = line.split(\";\")\n",
    "    f_out.write(linesplit[0] + \";\" + linesplit[1].replace('\\\"', '') + \"\\n\")\n",
    "\n",
    "f_out.close()"
   ]
  },
  {
   "cell_type": "code",
   "execution_count": 11,
   "metadata": {},
   "outputs": [],
   "source": [
    "df = pd.read_csv(\"MWE/mwe_id_word.csv\", sep=\";\")"
   ]
  },
  {
   "cell_type": "code",
   "execution_count": 12,
   "metadata": {},
   "outputs": [
    {
     "data": {
      "text/html": [
       "<div>\n",
       "<style scoped>\n",
       "    .dataframe tbody tr th:only-of-type {\n",
       "        vertical-align: middle;\n",
       "    }\n",
       "\n",
       "    .dataframe tbody tr th {\n",
       "        vertical-align: top;\n",
       "    }\n",
       "\n",
       "    .dataframe thead th {\n",
       "        text-align: right;\n",
       "    }\n",
       "</style>\n",
       "<table border=\"1\" class=\"dataframe\">\n",
       "  <thead>\n",
       "    <tr style=\"text-align: right;\">\n",
       "      <th></th>\n",
       "      <th>id</th>\n",
       "      <th>words</th>\n",
       "    </tr>\n",
       "  </thead>\n",
       "  <tbody>\n",
       "    <tr>\n",
       "      <th>0</th>\n",
       "      <td>9</td>\n",
       "      <td>avant toute chose</td>\n",
       "    </tr>\n",
       "    <tr>\n",
       "      <th>1</th>\n",
       "      <td>15</td>\n",
       "      <td>sir Sacheverell Sitwell</td>\n",
       "    </tr>\n",
       "    <tr>\n",
       "      <th>2</th>\n",
       "      <td>16</td>\n",
       "      <td>Maria Callas</td>\n",
       "    </tr>\n",
       "    <tr>\n",
       "      <th>3</th>\n",
       "      <td>21</td>\n",
       "      <td>Marcel Gotlieb Gotlib</td>\n",
       "    </tr>\n",
       "    <tr>\n",
       "      <th>4</th>\n",
       "      <td>23</td>\n",
       "      <td>art et architecture catalans</td>\n",
       "    </tr>\n",
       "    <tr>\n",
       "      <th>...</th>\n",
       "      <td>...</td>\n",
       "      <td>...</td>\n",
       "    </tr>\n",
       "    <tr>\n",
       "      <th>1738439</th>\n",
       "      <td>66465572</td>\n",
       "      <td>équipe d'Allemagne féminine de hockey sur glace</td>\n",
       "    </tr>\n",
       "    <tr>\n",
       "      <th>1738440</th>\n",
       "      <td>66495297</td>\n",
       "      <td>faculté de médecine de Montpellier-Nîmes</td>\n",
       "    </tr>\n",
       "    <tr>\n",
       "      <th>1738441</th>\n",
       "      <td>66495298</td>\n",
       "      <td>Vincent Lisowski</td>\n",
       "    </tr>\n",
       "    <tr>\n",
       "      <th>1738442</th>\n",
       "      <td>66495449</td>\n",
       "      <td>Hôpitaux et Universités</td>\n",
       "    </tr>\n",
       "    <tr>\n",
       "      <th>1738443</th>\n",
       "      <td>66498566</td>\n",
       "      <td>Association internationale des barmen</td>\n",
       "    </tr>\n",
       "  </tbody>\n",
       "</table>\n",
       "<p>1738444 rows × 2 columns</p>\n",
       "</div>"
      ],
      "text/plain": [
       "               id                                            words\n",
       "0               9                                avant toute chose\n",
       "1              15                          sir Sacheverell Sitwell\n",
       "2              16                                     Maria Callas\n",
       "3              21                            Marcel Gotlieb Gotlib\n",
       "4              23                     art et architecture catalans\n",
       "...           ...                                              ...\n",
       "1738439  66465572  équipe d'Allemagne féminine de hockey sur glace\n",
       "1738440  66495297         faculté de médecine de Montpellier-Nîmes\n",
       "1738441  66495298                                 Vincent Lisowski\n",
       "1738442  66495449                          Hôpitaux et Universités\n",
       "1738443  66498566            Association internationale des barmen\n",
       "\n",
       "[1738444 rows x 2 columns]"
      ]
     },
     "execution_count": 12,
     "metadata": {},
     "output_type": "execute_result"
    }
   ],
   "source": [
    "df"
   ]
  },
  {
   "cell_type": "code",
   "execution_count": 13,
   "metadata": {},
   "outputs": [
    {
     "name": "stdout",
     "output_type": "stream",
     "text": [
      "|████████████████████████████████████████| 1738444/1738444 [100%] in 1:28.7 (19597.61/s) \n"
     ]
    }
   ],
   "source": [
    "from alive_progress import alive_bar\n",
    "\n",
    "t_search = JDM.Trie() \n",
    "\n",
    "with alive_bar(len(df.index), force_tty=None) as bar:\n",
    "    for index, row in df.iterrows():\n",
    "        t_search.addword(row['words'].split())\n",
    "        \n",
    "        bar()"
   ]
  },
  {
   "cell_type": "code",
   "execution_count": 20,
   "metadata": {},
   "outputs": [
    {
     "name": "stdout",
     "output_type": "stream",
     "text": [
      "['Lucas', 'Eugene'] is in Trie\n",
      "['Scott']\n"
     ]
    }
   ],
   "source": [
    "t_search.searchword([\"Lucas\", \"Eugene\"])"
   ]
  },
  {
   "cell_type": "code",
   "execution_count": null,
   "metadata": {},
   "outputs": [],
   "source": []
  },
  {
   "cell_type": "code",
   "execution_count": 14,
   "metadata": {},
   "outputs": [],
   "source": [
    "#rs=t_search.words()\n",
    "\n",
    "#print(t_search)\n",
    "#print(rs)"
   ]
  },
  {
   "cell_type": "code",
   "execution_count": null,
   "metadata": {},
   "outputs": [],
   "source": [
    "# Trop long 60 Jours\n",
    "\n",
    "# from alive_progress import alive_bar\n",
    "\n",
    "# f_out = open(\"MWE/mwe_id.csv\", \"w\")\n",
    "\n",
    "# with alive_bar(len(df.index), force_tty=True) as bar:\n",
    "#     for index, row in df.iterrows():\n",
    "#         #print(row['id'], row['words'])\n",
    "#         line = str(row['id']) + \";\"\n",
    "#         #print(str(row['id']) + ' -> ')\n",
    "#         for word in str(row['words']).split(\" \"): \n",
    "#             #print(word)\n",
    "#             #print(JDM.Terme(word).getID())\n",
    "#             line += str(JDM.Terme(word).getID()) + \" \"\n",
    "#         line = line.rstrip()\n",
    "#         line += \";\\n\"\n",
    "#         f_out.writelines(line)\n",
    "#         bar()\n",
    "\n",
    "# f_out.close()\n"
   ]
  },
  {
   "cell_type": "code",
   "execution_count": 17,
   "metadata": {},
   "outputs": [
    {
     "data": {
      "text/html": [
       "<div>\n",
       "<style scoped>\n",
       "    .dataframe tbody tr th:only-of-type {\n",
       "        vertical-align: middle;\n",
       "    }\n",
       "\n",
       "    .dataframe tbody tr th {\n",
       "        vertical-align: top;\n",
       "    }\n",
       "\n",
       "    .dataframe thead th {\n",
       "        text-align: right;\n",
       "    }\n",
       "</style>\n",
       "<table border=\"1\" class=\"dataframe\">\n",
       "  <thead>\n",
       "    <tr style=\"text-align: right;\">\n",
       "      <th></th>\n",
       "      <th>id</th>\n",
       "      <th>words</th>\n",
       "    </tr>\n",
       "  </thead>\n",
       "  <tbody>\n",
       "    <tr>\n",
       "      <th>0</th>\n",
       "      <td>9</td>\n",
       "      <td>avant toute chose</td>\n",
       "    </tr>\n",
       "  </tbody>\n",
       "</table>\n",
       "</div>"
      ],
      "text/plain": [
       "   id              words\n",
       "0   9  avant toute chose"
      ]
     },
     "execution_count": 17,
     "metadata": {},
     "output_type": "execute_result"
    }
   ],
   "source": [
    "df.loc[df['id'] == 9]"
   ]
  },
  {
   "cell_type": "code",
   "execution_count": 16,
   "metadata": {},
   "outputs": [
    {
     "data": {
      "text/html": [
       "<div>\n",
       "<style scoped>\n",
       "    .dataframe tbody tr th:only-of-type {\n",
       "        vertical-align: middle;\n",
       "    }\n",
       "\n",
       "    .dataframe tbody tr th {\n",
       "        vertical-align: top;\n",
       "    }\n",
       "\n",
       "    .dataframe thead th {\n",
       "        text-align: right;\n",
       "    }\n",
       "</style>\n",
       "<table border=\"1\" class=\"dataframe\">\n",
       "  <thead>\n",
       "    <tr style=\"text-align: right;\">\n",
       "      <th></th>\n",
       "      <th>id</th>\n",
       "      <th>words</th>\n",
       "    </tr>\n",
       "  </thead>\n",
       "  <tbody>\n",
       "    <tr>\n",
       "      <th>2</th>\n",
       "      <td>16</td>\n",
       "      <td>Maria Callas</td>\n",
       "    </tr>\n",
       "  </tbody>\n",
       "</table>\n",
       "</div>"
      ],
      "text/plain": [
       "   id         words\n",
       "2  16  Maria Callas"
      ]
     },
     "execution_count": 16,
     "metadata": {},
     "output_type": "execute_result"
    }
   ],
   "source": [
    "df.loc[df['words'] == \"Maria Callas\"]"
   ]
  }
 ],
 "metadata": {
  "kernelspec": {
   "display_name": "Python 3.10.6 64-bit",
   "language": "python",
   "name": "python3"
  },
  "language_info": {
   "codemirror_mode": {
    "name": "ipython",
    "version": 3
   },
   "file_extension": ".py",
   "mimetype": "text/x-python",
   "name": "python",
   "nbconvert_exporter": "python",
   "pygments_lexer": "ipython3",
   "version": "3.10.6"
  },
  "orig_nbformat": 4,
  "vscode": {
   "interpreter": {
    "hash": "e7370f93d1d0cde622a1f8e1c04877d8463912d04d973331ad4851f04de6915a"
   }
  }
 },
 "nbformat": 4,
 "nbformat_minor": 2
}
