{
 "cells": [
  {
   "cell_type": "code",
   "execution_count": 19,
   "metadata": {},
   "outputs": [],
   "source": [
    "class Trie(object):\n",
    "    def __init__(self,wd=\"\",end=False):\n",
    "        self.br={}; self.end=end\n",
    "        if wd!=\"\": self.addword(wd)\n",
    "    def __repr__(self): # Uniquement pour les tests\n",
    "        br=self.br.__repr__()\n",
    "        m='E,' if self.end else \"\"\n",
    "        return \"T[\"+m+br+\"]\"\n",
    "\n",
    "    def addword(self,wd):\n",
    "        br=self.br\n",
    "        if wd:\n",
    "            c=wd[0]; rst=wd[1:] # Découpage essentiel\n",
    "            if c not in br: \n",
    "                br[c]=Trie() # Nouvelle branche\n",
    "            br[c].addword(rst)\n",
    "        else: \n",
    "            self.end=True # Marqueur de la fin       \n",
    "\n",
    "    def searchword(self,wd):\n",
    "        if self.search(wd): \n",
    "            print(str(wd) + \" is in Trie\")\n",
    "            self.sufix(wd)\n",
    "        else:\n",
    "            print(str(wd) + \" is not in Trie\")\n",
    "\n",
    "    def sufix(self, wd):\n",
    "        br = self.br\n",
    "        for c in wd:\n",
    "            br = br[c]\n",
    "\n",
    "        print(br.words())\n",
    "\n",
    "    def search(self,wd):\n",
    "        br=self.br\n",
    "        if wd:\n",
    "            c=wd[0]; rst=wd[1:] # Découpage essentiel\n",
    "            if c in br : \n",
    "                if len(rst) == 0: \n",
    "                    return True\n",
    "                else : \n",
    "                    return br[c].search(rst)\n",
    "            else : \n",
    "                return False\n",
    "            \n",
    "\n",
    "    def __getitem__(self,c):  # Objet émule une liste/dict.\n",
    "        return self.br[c]\n",
    "\n",
    "    # Renvoie tout les mots du dictionnaire\n",
    "    def words(self):\n",
    "        br=self.br\n",
    "        l=[]\n",
    "        for c in br:\n",
    "            w=br[c].words() # Les suffixes du mot en question\n",
    "            if w==[]: \n",
    "                x=[c] # Si vide\n",
    "            else:\n",
    "                x=[c+h for h in w] # Non vide. c à la tête\n",
    "                if br[c].end: \n",
    "                    x+=[c] # Cas spécial ! \n",
    "            l+=x\n",
    "        return l"
   ]
  },
  {
   "cell_type": "code",
   "execution_count": 20,
   "metadata": {},
   "outputs": [
    {
     "name": "stdout",
     "output_type": "stream",
     "text": [
      "T[{'avant': T[{'toi': T[E,{}], 'lui': T[E,{}], 'eux': T[E,{}]}], 'pour': T[{'lui': T[E,{}]}]}]\n",
      "['avanttoi', 'avantlui', 'avanteux', 'pourlui']\n"
     ]
    }
   ],
   "source": [
    "t=Trie() \n",
    "t.addword([\"avant\", \"toi\"])\n",
    "t.addword([\"avant\", \"lui\"])\n",
    "t.addword([\"pour\", \"lui\"])\n",
    "t.addword([\"avant\", \"eux\"])\n",
    "\n",
    "rs=t.words()\n",
    "\n",
    "print(t)\n",
    "print(rs)"
   ]
  },
  {
   "cell_type": "code",
   "execution_count": 26,
   "metadata": {},
   "outputs": [
    {
     "data": {
      "text/plain": [
       "list"
      ]
     },
     "execution_count": 26,
     "metadata": {},
     "output_type": "execute_result"
    }
   ],
   "source": [
    "type([\"23\", \"154329\"])"
   ]
  },
  {
   "cell_type": "code",
   "execution_count": 4,
   "metadata": {},
   "outputs": [
    {
     "name": "stdout",
     "output_type": "stream",
     "text": [
      "['2'] is in Trie\n",
      "['4329']\n"
     ]
    }
   ],
   "source": [
    "t.searchword([\"2\"])"
   ]
  },
  {
   "cell_type": "markdown",
   "metadata": {},
   "source": [
    "# Construction de l'arbre d'id"
   ]
  },
  {
   "cell_type": "code",
   "execution_count": 6,
   "metadata": {},
   "outputs": [],
   "source": [
    "import JDM\n",
    "import pandas as pd"
   ]
  },
  {
   "cell_type": "code",
   "execution_count": 7,
   "metadata": {},
   "outputs": [],
   "source": [
    "JDM.Terme.initMyLocalDataBase() "
   ]
  },
  {
   "cell_type": "code",
   "execution_count": 28,
   "metadata": {},
   "outputs": [],
   "source": [
    "f_in = open('MWE/mwe.csv', 'r')\n",
    "Lines = f_in.readlines()\n",
    "f_in.close() \n",
    "\n",
    "f_out = open(\"MWE/mwe_id_word.csv\", \"a\")\n",
    "\n",
    "  \n",
    "for line in Lines:\n",
    "    linesplit = line.split(\";\")\n",
    "    f_out.write(linesplit[0] + \";\" + linesplit[1].replace('\\\"', '') + \"\\n\")\n",
    "\n",
    "f_out.close()"
   ]
  },
  {
   "cell_type": "code",
   "execution_count": 29,
   "metadata": {},
   "outputs": [],
   "source": [
    "df = pd.read_csv(\"MWE/mwe_id_word.csv\", sep=\";\")"
   ]
  },
  {
   "cell_type": "code",
   "execution_count": 30,
   "metadata": {},
   "outputs": [
    {
     "data": {
      "text/html": [
       "<div>\n",
       "<style scoped>\n",
       "    .dataframe tbody tr th:only-of-type {\n",
       "        vertical-align: middle;\n",
       "    }\n",
       "\n",
       "    .dataframe tbody tr th {\n",
       "        vertical-align: top;\n",
       "    }\n",
       "\n",
       "    .dataframe thead th {\n",
       "        text-align: right;\n",
       "    }\n",
       "</style>\n",
       "<table border=\"1\" class=\"dataframe\">\n",
       "  <thead>\n",
       "    <tr style=\"text-align: right;\">\n",
       "      <th></th>\n",
       "      <th>id</th>\n",
       "      <th>words</th>\n",
       "    </tr>\n",
       "  </thead>\n",
       "  <tbody>\n",
       "    <tr>\n",
       "      <th>0</th>\n",
       "      <td>9</td>\n",
       "      <td>avant toute chose</td>\n",
       "    </tr>\n",
       "    <tr>\n",
       "      <th>1</th>\n",
       "      <td>15</td>\n",
       "      <td>sir Sacheverell Sitwell</td>\n",
       "    </tr>\n",
       "    <tr>\n",
       "      <th>2</th>\n",
       "      <td>16</td>\n",
       "      <td>Maria Callas</td>\n",
       "    </tr>\n",
       "    <tr>\n",
       "      <th>3</th>\n",
       "      <td>21</td>\n",
       "      <td>Marcel Gotlieb Gotlib</td>\n",
       "    </tr>\n",
       "    <tr>\n",
       "      <th>4</th>\n",
       "      <td>23</td>\n",
       "      <td>art et architecture catalans</td>\n",
       "    </tr>\n",
       "    <tr>\n",
       "      <th>...</th>\n",
       "      <td>...</td>\n",
       "      <td>...</td>\n",
       "    </tr>\n",
       "    <tr>\n",
       "      <th>1738439</th>\n",
       "      <td>66465572</td>\n",
       "      <td>équipe d'Allemagne féminine de hockey sur glace</td>\n",
       "    </tr>\n",
       "    <tr>\n",
       "      <th>1738440</th>\n",
       "      <td>66495297</td>\n",
       "      <td>faculté de médecine de Montpellier-Nîmes</td>\n",
       "    </tr>\n",
       "    <tr>\n",
       "      <th>1738441</th>\n",
       "      <td>66495298</td>\n",
       "      <td>Vincent Lisowski</td>\n",
       "    </tr>\n",
       "    <tr>\n",
       "      <th>1738442</th>\n",
       "      <td>66495449</td>\n",
       "      <td>Hôpitaux et Universités</td>\n",
       "    </tr>\n",
       "    <tr>\n",
       "      <th>1738443</th>\n",
       "      <td>66498566</td>\n",
       "      <td>Association internationale des barmen</td>\n",
       "    </tr>\n",
       "  </tbody>\n",
       "</table>\n",
       "<p>1738444 rows × 2 columns</p>\n",
       "</div>"
      ],
      "text/plain": [
       "               id                                            words\n",
       "0               9                                avant toute chose\n",
       "1              15                          sir Sacheverell Sitwell\n",
       "2              16                                     Maria Callas\n",
       "3              21                            Marcel Gotlieb Gotlib\n",
       "4              23                     art et architecture catalans\n",
       "...           ...                                              ...\n",
       "1738439  66465572  équipe d'Allemagne féminine de hockey sur glace\n",
       "1738440  66495297         faculté de médecine de Montpellier-Nîmes\n",
       "1738441  66495298                                 Vincent Lisowski\n",
       "1738442  66495449                          Hôpitaux et Universités\n",
       "1738443  66498566            Association internationale des barmen\n",
       "\n",
       "[1738444 rows x 2 columns]"
      ]
     },
     "execution_count": 30,
     "metadata": {},
     "output_type": "execute_result"
    }
   ],
   "source": [
    "df"
   ]
  },
  {
   "cell_type": "code",
   "execution_count": 31,
   "metadata": {},
   "outputs": [
    {
     "name": "stdout",
     "output_type": "stream",
     "text": [
      "|████████████████████████████████████████| 1738444/1738444 [100%] in 31.2s (55671.42/s)                                  eta: 1:20) (33137.8/s, eta: 1:06) in 1s (44501.8/s, eta: 41s)  40460/1738444 [2%] in 1s (48400.9/s, eta: 38s) ▃▁▃ 66452/1738444 [4%] in 1s (51172.4/s, eta: 33s) ▂▂▄ 73464/1738444 [4%] in 1s (49689.7/s, eta: 33s) ▂▄▆ 87539/1738444 [5%] in 2s (51758.2/s, eta: 32s) ▃▅▇ 95786/1738444 [6%] in 2s (52750.9/s, eta: 32s)  ▇▅▃ 129659/1738444 [7%] in 2s (53512.6/s, eta: 30s) ▆▄▂ 135553/1738444 [8%] in 3s (53923.7/s, eta: 30s) ▅▃▁ 142109/1738444 [8%] in 3s (54394.4/s, eta: 30s)  ▄▂▂ 150114/1738444 [9%] in 3s (54972.5/s, eta: 29s) (54655.9/s, eta: 29s) 205464/1738444 [12%] in 4s (56214.6/s, eta: 28s)  ▆█▆ 214020/1738444 [12%] in 4s (56522.8/s, eta: 27s)  ▇▅▃ 233954/1738444 [13%] in 4s (55580.5/s, eta: 27s) ▅▃▁ 244873/1738444 [14%] in 4s (55918.8/s, eta: 27s) ▄▂▂ 252043/1738444 [14%] in 4s (56129.5/s, eta: 27s)  ▃▁▃ 258933/1738444 [15%] in 5s (56324.5/s, eta: 26s)  ▂▂▄ 265747/1738444 [15%] in 5s (56523.1/s, eta: 26s) 272972/1738444 [16%] in 5s (56710.1/s, eta: 26s)  ▂▄▆ 281134/1738444 [16%] in 5s (56921.8/s, eta: 26s)  ▃▅▇ 288764/1738444 [17%] in 5s (57117.8/s, eta: 26s)  █▆▄ 308910/1738444 [18%] in 6s (56050.5/s, eta: 26s) 324774/1738444 [19%] in 6s (56335.8/s, eta: 25s)  333081/1738444 [19%] in 6s (56505.9/s, eta: 25s) 342734/1738444 [20%] in 6s (56641.3/s, eta: 25s) ▃▁▃ 350215/1738444 [20%] in 6s (56780.5/s, eta: 25s)  ▂▄▆ 370112/1738444 [21%] in 7s (55689.1/s, eta: 25s) ▄▆█ 381925/1738444 [22%] in 7s (55921.2/s, eta: 24s) ▅▇▇ 389313/1738444 [22%] in 7s (56077.5/s, eta: 24s) █▆▄ 406326/1738444 [23%] in 7s (56377.8/s, eta: 24s) 430951/1738444 [25%] in 8s (56809.3/s, eta: 23s) ▂▂▄ 440360/1738444 [25%] in 8s (56975.3/s, eta: 23s)  447485/1738444 [26%] in 8s (57082.9/s, eta: 23s)  ▂▄▆ 455485/1738444 [26%] in 8s (57191.7/s, eta: 23s) 461593/1738444 [27%] in 8s (55885.8/s, eta: 23s) ▆█▆ 479950/1738444 [28%] in 9s (56166.0/s, eta: 22s)  ▇▇▅ 487621/1738444 [28%] in 9s (56236.3/s, eta: 22s)  █▆▄ 494821/1738444 [28%] in 9s (56293.1/s, eta: 22s) in 9s (56355.7/s, eta: 22s)  ▆▄▂ 511531/1738444 [29%] in 9s (56439.1/s, eta: 22s)  ▅▃▁ 518910/1738444 [30%] in 9s (56504.9/s, eta: 22s)  ▄▂▂ 526014/1738444 [30%] in 9s (56552.7/s, eta: 22s)  533167/1738444 [31%] in 9s (56603.8/s, eta: 21s)  ▁▃▅ 546876/1738444 [31%] in 10s (56698.3/s, eta: 21s)  ▄▆█ 565307/1738444 [33%] in 10s (56822.5/s, eta: 21s) ▆█▆ 577791/1738444 [33%] in 10s (55572.1/s, eta: 21s) 592616/1738444 [34%] in 11s (55652.7/s, eta: 21s)  ▆▄▂ 602236/1738444 [35%] in 11s (55736.1/s, eta: 21s) ▅▃▁ 609043/1738444 [35%] in 11s (55786.1/s, eta: 20s)  ▁▃▅ 631012/1738444 [36%] in 11s (55924.4/s, eta: 20s)  ▂▄▆ 636894/1738444 [37%] in 11s (55948.0/s, eta: 20s)  ▃▅▇ 643680/1738444 [37%] in 11s (55987.6/s, eta: 20s)  ▄▆█ 650596/1738444 [37%] in 12s (56051.8/s, eta: 20s)  ▅▇▇ 657924/1738444 [38%] in 12s (56138.1/s, eta: 19s)  687337/1738444 [40%] in 12s (56458.5/s, eta: 19s) ▄▂▂ 696916/1738444 [40%] in 12s (56552.7/s, eta: 19s) ▁▃▅ 712770/1738444 [41%] in 13s (56707.0/s, eta: 18s) ▅▇▇ 733921/1738444 [42%] in 13s (55599.4/s, eta: 18s)  ▆█▆ 741629/1738444 [43%] in 13s (55677.3/s, eta: 18s) ▇▇▅ 749239/1738444 [43%] in 13s (55752.1/s, eta: 18s)  ▇▅▃ 760095/1738444 [44%] in 14s (55859.8/s, eta: 18s) ▆▄▂ 767406/1738444 [44%] in 14s (55934.5/s, eta: 17s) ▅▃▁ 775930/1738444 [45%] in 14s (56011.7/s, eta: 17s)  ▄▂▂ 783529/1738444 [45%] in 14s (56078.4/s, eta: 17s)  ▃▁▃ 791213/1738444 [46%] in 14s (56150.2/s, eta: 17s)  798322/1738444 [46%] in 14s (56214.8/s, eta: 17s)  ▁▃▅ 806575/1738444 [46%] in 14s (56287.3/s, eta: 17s)  ▂▄▆ 814243/1738444 [47%] in 14s (56354.9/s, eta: 17s) ▅▇▇ 834424/1738444 [48%] in 15s (56507.3/s, eta: 16s)  850367/1738444 [49%] in 15s (56638.7/s, eta: 16s)  858242/1738444 [49%] in 15s (56695.5/s, eta: 16s) ▇▅▃ 865530/1738444 [50%] in 15s (56751.3/s, eta: 16s)  ▆▄▂ 873026/1738444 [50%] in 15s (56809.3/s, eta: 15s) ▄▂▂ 886625/1738444 [51%] in 16s (56909.9/s, eta: 15s)  891416/1738444 [51%] in 16s (56942.0/s, eta: 15s) ▂▂▄ 900871/1738444 [52%] in 16s (57011.7/s, eta: 15s) ▃▅▇ 916699/1738444 [53%] in 16s (55826.0/s, eta: 15s) ▅▇▇ 930375/1738444 [54%] in 17s (55938.6/s, eta: 15s) in 17s (56030.0/s, eta: 14s) █▆▄ 950393/1738444 [55%] in 17s (56096.4/s, eta: 14s)  ▆▄▂ 965011/1738444 [56%] in 17s (56206.2/s, eta: 14s)  ▅▇▇ 1082188/1738444 [62%] in 19s (57035.6/s, eta: 12s) ▆█▆ 1088404/1738444 [63%] in 19s (57064.8/s, eta: 11s) ▇▇▅ 1096556/1738444 [63%] in 19s (57102.3/s, eta: 11s)  1103607/1738444 [63%] in 19s (57098.8/s, eta: 11s)  ▇▅▃ 1109203/1738444 [64%] in 19s (57034.9/s, eta: 11s) ▃▁▃ 1122363/1738444 [65%] in 20s (55622.7/s, eta: 11s)  ▂▂▄ 1127336/1738444 [65%] in 20s (55576.7/s, eta: 11s)  ▁▃▅ 1133166/1738444 [65%] in 20s (55522.4/s, eta: 11s)  1138906/1738444 [66%] in 21s (55514.7/s, eta: 11s) ▃▅▇ 1146968/1738444 [66%] in 21s (55567.5/s, eta: 11s)  ▄▆█ 1156287/1738444 [67%] in 21s (55628.2/s, eta: 11s)  ▅▇▇ 1163274/1738444 [67%] in 21s (55670.1/s, eta: 10s) ▅▃▁ 1199912/1738444 [69%] in 21s (55879.1/s, eta: 10s)  ▂▂▄ 1216389/1738444 [70%] in 22s (55949.2/s, eta: 9s)                         1229494/1738444 [71%] in 22s (56003.6/s, eta: 9s)  ▃▅▇ 1237559/1738444 [71%] in 22s (56035.9/s, eta: 9s) ▄▆█ 1244933/1738444 [72%] in 22s (56072.4/s, eta: 9s) ▅▇▇ 1252837/1738444 [72%] in 22s (56116.5/s, eta: 9s) ▆█▆ 1260958/1738444 [73%] in 22s (56163.4/s, eta: 9s) in 23s (56218.6/s, eta: 8s)  ▄▂▂ 1297775/1738444 [75%] in 24s (55051.4/s, eta: 8s) 1308699/1738444 [75%] in 24s (55110.5/s, eta: 8s)  ▃▅▇ 1325731/1738444 [76%] in 24s (55205.5/s, eta: 8s)  ▅▇▇ 1337269/1738444 [77%] in 24s (55280.9/s, eta: 7s) ▆█▆ 1344578/1738444 [77%] in 24s (55324.9/s, eta: 7s) in 24s (55394.1/s, eta: 7s)  ▆▄▂ 1373312/1738444 [79%] in 25s (55478.7/s, eta: 7s) ▅▃▁ 1380354/1738444 [79%] in 25s (55513.0/s, eta: 7s)  1387466/1738444 [80%] in 25s (55546.0/s, eta: 6s)  1394853/1738444 [80%] in 25s (55577.9/s, eta: 6s)  ▂▂▄ 1403657/1738444 [81%] in 25s (55615.9/s, eta: 6s)  ▁▃▅ 1410951/1738444 [81%] in 25s (55647.8/s, eta: 6s)  ▂▄▆ 1417556/1738444 [82%] in 25s (55674.8/s, eta: 6s) ▅▇▇ 1434479/1738444 [83%] in 26s (55750.1/s, eta: 6s) ▇▇▅ 1451813/1738444 [84%] in 26s (55822.7/s, eta: 5s) ▇▅▃ 1462937/1738444 [84%] in 26s (55866.0/s, eta: 5s) ▆▄▂ 1470056/1738444 [85%] in 26s (55895.4/s, eta: 5s)  ▅▃▁ 1477794/1738444 [85%] in 26s (55923.4/s, eta: 5s)  ▄▂▂ 1485342/1738444 [85%] in 27s (55955.9/s, eta: 5s)  ▃▁▃ 1492860/1738444 [86%] in 27s (55987.9/s, eta: 5s) 1507137/1738444 [87%] in 27s (56051.4/s, eta: 4s) ▂▄▆ 1516472/1738444 [87%] in 27s (56090.2/s, eta: 4s) \n"
     ]
    }
   ],
   "source": [
    "from alive_progress import alive_bar\n",
    "\n",
    "t_search = Trie() \n",
    "\n",
    "with alive_bar(len(df.index), force_tty=True) as bar:\n",
    "    for index, row in df.iterrows():\n",
    "        t_search.addword(row['words'].split())\n",
    "        \n",
    "        bar()"
   ]
  },
  {
   "cell_type": "code",
   "execution_count": 32,
   "metadata": {},
   "outputs": [],
   "source": [
    "\n",
    "rs=t_search.words()\n",
    "\n",
    "print(t_search)\n",
    "print(rs)"
   ]
  },
  {
   "cell_type": "code",
   "execution_count": 24,
   "metadata": {},
   "outputs": [
    {
     "name": "stdout",
     "output_type": "stream",
     "text": [
      "['23154329', '231329', '2315', '24329', 'avanttoutechose', 'sirSacheverellSitwell', 'MariaCallas', 'MarcelGotliebGotlib', 'artetarchitecturecatalans', 'AmericanFriendsServiceCommittee', 'AlexanderRoslin', 'représentationnationale', 'Phaseolusvulgaris']\n"
     ]
    }
   ],
   "source": [
    "rs=t.words()\n",
    "print(rs)"
   ]
  },
  {
   "cell_type": "code",
   "execution_count": 15,
   "metadata": {},
   "outputs": [
    {
     "name": "stdout",
     "output_type": "stream",
     "text": [
      "|⚠︎                                       | (!) 1865/1738444 [0%] in 46:53.7 (0.66/s)                                    \n"
     ]
    },
    {
     "ename": "KeyboardInterrupt",
     "evalue": "",
     "output_type": "error",
     "traceback": [
      "\u001b[0;31m---------------------------------------------------------------------------\u001b[0m",
      "\u001b[0;31mKeyboardInterrupt\u001b[0m                         Traceback (most recent call last)",
      "\u001b[1;32m/Users/lucasaissaoui/Git/JeuxDeMots/mwe_id.ipynb Cellule 11\u001b[0m in \u001b[0;36m<module>\u001b[0;34m\u001b[0m\n\u001b[1;32m      <a href='vscode-notebook-cell:/Users/lucasaissaoui/Git/JeuxDeMots/mwe_id.ipynb#X15sZmlsZQ%3D%3D?line=8'>9</a>\u001b[0m \u001b[39m#print(str(row['id']) + ' -> ')\u001b[39;00m\n\u001b[1;32m     <a href='vscode-notebook-cell:/Users/lucasaissaoui/Git/JeuxDeMots/mwe_id.ipynb#X15sZmlsZQ%3D%3D?line=9'>10</a>\u001b[0m \u001b[39mfor\u001b[39;00m word \u001b[39min\u001b[39;00m \u001b[39mstr\u001b[39m(row[\u001b[39m'\u001b[39m\u001b[39mwords\u001b[39m\u001b[39m'\u001b[39m])\u001b[39m.\u001b[39msplit(\u001b[39m\"\u001b[39m\u001b[39m \u001b[39m\u001b[39m\"\u001b[39m): \n\u001b[1;32m     <a href='vscode-notebook-cell:/Users/lucasaissaoui/Git/JeuxDeMots/mwe_id.ipynb#X15sZmlsZQ%3D%3D?line=10'>11</a>\u001b[0m     \u001b[39m#print(word)\u001b[39;00m\n\u001b[1;32m     <a href='vscode-notebook-cell:/Users/lucasaissaoui/Git/JeuxDeMots/mwe_id.ipynb#X15sZmlsZQ%3D%3D?line=11'>12</a>\u001b[0m     \u001b[39m#print(JDM.Terme(word).getID())\u001b[39;00m\n\u001b[0;32m---> <a href='vscode-notebook-cell:/Users/lucasaissaoui/Git/JeuxDeMots/mwe_id.ipynb#X15sZmlsZQ%3D%3D?line=12'>13</a>\u001b[0m     line \u001b[39m+\u001b[39m\u001b[39m=\u001b[39m \u001b[39mstr\u001b[39m(JDM\u001b[39m.\u001b[39;49mTerme(word)\u001b[39m.\u001b[39mgetID()) \u001b[39m+\u001b[39m \u001b[39m\"\u001b[39m\u001b[39m \u001b[39m\u001b[39m\"\u001b[39m\n\u001b[1;32m     <a href='vscode-notebook-cell:/Users/lucasaissaoui/Git/JeuxDeMots/mwe_id.ipynb#X15sZmlsZQ%3D%3D?line=13'>14</a>\u001b[0m line \u001b[39m=\u001b[39m line\u001b[39m.\u001b[39mrstrip()\n\u001b[1;32m     <a href='vscode-notebook-cell:/Users/lucasaissaoui/Git/JeuxDeMots/mwe_id.ipynb#X15sZmlsZQ%3D%3D?line=14'>15</a>\u001b[0m line \u001b[39m+\u001b[39m\u001b[39m=\u001b[39m \u001b[39m\"\u001b[39m\u001b[39m;\u001b[39m\u001b[39m\\n\u001b[39;00m\u001b[39m\"\u001b[39m\n",
      "File \u001b[0;32m~/Git/JeuxDeMots/JDM.py:48\u001b[0m, in \u001b[0;36mTerme.__init__\u001b[0;34m(self, mot)\u001b[0m\n\u001b[1;32m     46\u001b[0m     \u001b[39mself\u001b[39m\u001b[39m.\u001b[39mload()\n\u001b[1;32m     47\u001b[0m \u001b[39melse\u001b[39;00m: \n\u001b[0;32m---> 48\u001b[0m     \u001b[39mself\u001b[39;49m\u001b[39m.\u001b[39;49mdownload()\n",
      "File \u001b[0;32m~/Git/JeuxDeMots/JDM.py:84\u001b[0m, in \u001b[0;36mTerme.download\u001b[0;34m(self)\u001b[0m\n\u001b[1;32m     81\u001b[0m \u001b[39mdef\u001b[39;00m \u001b[39mdownload\u001b[39m(\u001b[39mself\u001b[39m):\n\u001b[1;32m     82\u001b[0m     i \u001b[39m=\u001b[39m \u001b[39m0\u001b[39m\n\u001b[0;32m---> 84\u001b[0m     \u001b[39mwhile\u001b[39;00m \u001b[39mnot\u001b[39;00m \u001b[39mself\u001b[39;49m\u001b[39m.\u001b[39;49mrequest() \u001b[39mand\u001b[39;00m i \u001b[39m<\u001b[39m \u001b[39m5\u001b[39m: \n\u001b[1;32m     85\u001b[0m         i \u001b[39m+\u001b[39m\u001b[39m=\u001b[39m \u001b[39m1\u001b[39m\n\u001b[1;32m     87\u001b[0m     f \u001b[39m=\u001b[39m \u001b[39mopen\u001b[39m(PATH_REQUEST \u001b[39m+\u001b[39m \u001b[39mself\u001b[39m\u001b[39m.\u001b[39mmot \u001b[39m+\u001b[39m EXT_REQUEST, \u001b[39m\"\u001b[39m\u001b[39mr\u001b[39m\u001b[39m\"\u001b[39m)\n",
      "File \u001b[0;32m~/Git/JeuxDeMots/JDM.py:62\u001b[0m, in \u001b[0;36mTerme.request\u001b[0;34m(self)\u001b[0m\n\u001b[1;32m     60\u001b[0m url \u001b[39m=\u001b[39m \u001b[39m'\u001b[39m\u001b[39mhttps://www.jeuxdemots.org/rezo-dump.php?gotermsubmit=Chercher&gotermrel=\u001b[39m\u001b[39m'\u001b[39m \u001b[39m+\u001b[39m \u001b[39mself\u001b[39m\u001b[39m.\u001b[39mmot \u001b[39m+\u001b[39m \u001b[39m'\u001b[39m\u001b[39m&rel=\u001b[39m\u001b[39m'\u001b[39m\n\u001b[1;32m     61\u001b[0m headers \u001b[39m=\u001b[39m {\u001b[39m'\u001b[39m\u001b[39mcontent-type\u001b[39m\u001b[39m'\u001b[39m: \u001b[39m'\u001b[39m\u001b[39mapplication/json\u001b[39m\u001b[39m'\u001b[39m, \u001b[39m'\u001b[39m\u001b[39mAccept-Charset\u001b[39m\u001b[39m'\u001b[39m: \u001b[39m'\u001b[39m\u001b[39mUTF-8\u001b[39m\u001b[39m'\u001b[39m}\n\u001b[0;32m---> 62\u001b[0m r \u001b[39m=\u001b[39m requests\u001b[39m.\u001b[39;49mpost(url, headers\u001b[39m=\u001b[39;49mheaders)\n\u001b[1;32m     64\u001b[0m \u001b[39m# Enregistrer la requetes dans un fichier text\u001b[39;00m\n\u001b[1;32m     65\u001b[0m f \u001b[39m=\u001b[39m \u001b[39mopen\u001b[39m(PATH_REQUEST \u001b[39m+\u001b[39m \u001b[39mself\u001b[39m\u001b[39m.\u001b[39mmot \u001b[39m+\u001b[39m EXT_REQUEST, \u001b[39m\"\u001b[39m\u001b[39mw\u001b[39m\u001b[39m\"\u001b[39m)\n",
      "File \u001b[0;32m/opt/homebrew/Caskroom/miniforge/base/envs/ML1/lib/python3.9/site-packages/requests/api.py:117\u001b[0m, in \u001b[0;36mpost\u001b[0;34m(url, data, json, **kwargs)\u001b[0m\n\u001b[1;32m    105\u001b[0m \u001b[39mdef\u001b[39;00m \u001b[39mpost\u001b[39m(url, data\u001b[39m=\u001b[39m\u001b[39mNone\u001b[39;00m, json\u001b[39m=\u001b[39m\u001b[39mNone\u001b[39;00m, \u001b[39m*\u001b[39m\u001b[39m*\u001b[39mkwargs):\n\u001b[1;32m    106\u001b[0m     \u001b[39mr\u001b[39m\u001b[39m\"\"\"Sends a POST request.\u001b[39;00m\n\u001b[1;32m    107\u001b[0m \n\u001b[1;32m    108\u001b[0m \u001b[39m    :param url: URL for the new :class:`Request` object.\u001b[39;00m\n\u001b[0;32m   (...)\u001b[0m\n\u001b[1;32m    114\u001b[0m \u001b[39m    :rtype: requests.Response\u001b[39;00m\n\u001b[1;32m    115\u001b[0m \u001b[39m    \"\"\"\u001b[39;00m\n\u001b[0;32m--> 117\u001b[0m     \u001b[39mreturn\u001b[39;00m request(\u001b[39m'\u001b[39;49m\u001b[39mpost\u001b[39;49m\u001b[39m'\u001b[39;49m, url, data\u001b[39m=\u001b[39;49mdata, json\u001b[39m=\u001b[39;49mjson, \u001b[39m*\u001b[39;49m\u001b[39m*\u001b[39;49mkwargs)\n",
      "File \u001b[0;32m/opt/homebrew/Caskroom/miniforge/base/envs/ML1/lib/python3.9/site-packages/requests/api.py:61\u001b[0m, in \u001b[0;36mrequest\u001b[0;34m(method, url, **kwargs)\u001b[0m\n\u001b[1;32m     57\u001b[0m \u001b[39m# By using the 'with' statement we are sure the session is closed, thus we\u001b[39;00m\n\u001b[1;32m     58\u001b[0m \u001b[39m# avoid leaving sockets open which can trigger a ResourceWarning in some\u001b[39;00m\n\u001b[1;32m     59\u001b[0m \u001b[39m# cases, and look like a memory leak in others.\u001b[39;00m\n\u001b[1;32m     60\u001b[0m \u001b[39mwith\u001b[39;00m sessions\u001b[39m.\u001b[39mSession() \u001b[39mas\u001b[39;00m session:\n\u001b[0;32m---> 61\u001b[0m     \u001b[39mreturn\u001b[39;00m session\u001b[39m.\u001b[39;49mrequest(method\u001b[39m=\u001b[39;49mmethod, url\u001b[39m=\u001b[39;49murl, \u001b[39m*\u001b[39;49m\u001b[39m*\u001b[39;49mkwargs)\n",
      "File \u001b[0;32m/opt/homebrew/Caskroom/miniforge/base/envs/ML1/lib/python3.9/site-packages/requests/sessions.py:529\u001b[0m, in \u001b[0;36mSession.request\u001b[0;34m(self, method, url, params, data, headers, cookies, files, auth, timeout, allow_redirects, proxies, hooks, stream, verify, cert, json)\u001b[0m\n\u001b[1;32m    524\u001b[0m send_kwargs \u001b[39m=\u001b[39m {\n\u001b[1;32m    525\u001b[0m     \u001b[39m'\u001b[39m\u001b[39mtimeout\u001b[39m\u001b[39m'\u001b[39m: timeout,\n\u001b[1;32m    526\u001b[0m     \u001b[39m'\u001b[39m\u001b[39mallow_redirects\u001b[39m\u001b[39m'\u001b[39m: allow_redirects,\n\u001b[1;32m    527\u001b[0m }\n\u001b[1;32m    528\u001b[0m send_kwargs\u001b[39m.\u001b[39mupdate(settings)\n\u001b[0;32m--> 529\u001b[0m resp \u001b[39m=\u001b[39m \u001b[39mself\u001b[39;49m\u001b[39m.\u001b[39;49msend(prep, \u001b[39m*\u001b[39;49m\u001b[39m*\u001b[39;49msend_kwargs)\n\u001b[1;32m    531\u001b[0m \u001b[39mreturn\u001b[39;00m resp\n",
      "File \u001b[0;32m/opt/homebrew/Caskroom/miniforge/base/envs/ML1/lib/python3.9/site-packages/requests/sessions.py:687\u001b[0m, in \u001b[0;36mSession.send\u001b[0;34m(self, request, **kwargs)\u001b[0m\n\u001b[1;32m    684\u001b[0m         \u001b[39mpass\u001b[39;00m\n\u001b[1;32m    686\u001b[0m \u001b[39mif\u001b[39;00m \u001b[39mnot\u001b[39;00m stream:\n\u001b[0;32m--> 687\u001b[0m     r\u001b[39m.\u001b[39;49mcontent\n\u001b[1;32m    689\u001b[0m \u001b[39mreturn\u001b[39;00m r\n",
      "File \u001b[0;32m/opt/homebrew/Caskroom/miniforge/base/envs/ML1/lib/python3.9/site-packages/requests/models.py:838\u001b[0m, in \u001b[0;36mResponse.content\u001b[0;34m(self)\u001b[0m\n\u001b[1;32m    836\u001b[0m         \u001b[39mself\u001b[39m\u001b[39m.\u001b[39m_content \u001b[39m=\u001b[39m \u001b[39mNone\u001b[39;00m\n\u001b[1;32m    837\u001b[0m     \u001b[39melse\u001b[39;00m:\n\u001b[0;32m--> 838\u001b[0m         \u001b[39mself\u001b[39m\u001b[39m.\u001b[39m_content \u001b[39m=\u001b[39m \u001b[39mb\u001b[39;49m\u001b[39m'\u001b[39;49m\u001b[39m'\u001b[39;49m\u001b[39m.\u001b[39;49mjoin(\u001b[39mself\u001b[39;49m\u001b[39m.\u001b[39;49miter_content(CONTENT_CHUNK_SIZE)) \u001b[39mor\u001b[39;00m \u001b[39mb\u001b[39m\u001b[39m'\u001b[39m\u001b[39m'\u001b[39m\n\u001b[1;32m    840\u001b[0m \u001b[39mself\u001b[39m\u001b[39m.\u001b[39m_content_consumed \u001b[39m=\u001b[39m \u001b[39mTrue\u001b[39;00m\n\u001b[1;32m    841\u001b[0m \u001b[39m# don't need to release the connection; that's been handled by urllib3\u001b[39;00m\n\u001b[1;32m    842\u001b[0m \u001b[39m# since we exhausted the data.\u001b[39;00m\n",
      "File \u001b[0;32m/opt/homebrew/Caskroom/miniforge/base/envs/ML1/lib/python3.9/site-packages/requests/models.py:760\u001b[0m, in \u001b[0;36mResponse.iter_content.<locals>.generate\u001b[0;34m()\u001b[0m\n\u001b[1;32m    758\u001b[0m \u001b[39mif\u001b[39;00m \u001b[39mhasattr\u001b[39m(\u001b[39mself\u001b[39m\u001b[39m.\u001b[39mraw, \u001b[39m'\u001b[39m\u001b[39mstream\u001b[39m\u001b[39m'\u001b[39m):\n\u001b[1;32m    759\u001b[0m     \u001b[39mtry\u001b[39;00m:\n\u001b[0;32m--> 760\u001b[0m         \u001b[39mfor\u001b[39;00m chunk \u001b[39min\u001b[39;00m \u001b[39mself\u001b[39m\u001b[39m.\u001b[39mraw\u001b[39m.\u001b[39mstream(chunk_size, decode_content\u001b[39m=\u001b[39m\u001b[39mTrue\u001b[39;00m):\n\u001b[1;32m    761\u001b[0m             \u001b[39myield\u001b[39;00m chunk\n\u001b[1;32m    762\u001b[0m     \u001b[39mexcept\u001b[39;00m ProtocolError \u001b[39mas\u001b[39;00m e:\n",
      "File \u001b[0;32m/opt/homebrew/Caskroom/miniforge/base/envs/ML1/lib/python3.9/site-packages/urllib3/response.py:575\u001b[0m, in \u001b[0;36mHTTPResponse.stream\u001b[0;34m(self, amt, decode_content)\u001b[0m\n\u001b[1;32m    559\u001b[0m \u001b[39m\"\"\"\u001b[39;00m\n\u001b[1;32m    560\u001b[0m \u001b[39mA generator wrapper for the read() method. A call will block until\u001b[39;00m\n\u001b[1;32m    561\u001b[0m \u001b[39m``amt`` bytes have been read from the connection or until the\u001b[39;00m\n\u001b[0;32m   (...)\u001b[0m\n\u001b[1;32m    572\u001b[0m \u001b[39m    'content-encoding' header.\u001b[39;00m\n\u001b[1;32m    573\u001b[0m \u001b[39m\"\"\"\u001b[39;00m\n\u001b[1;32m    574\u001b[0m \u001b[39mif\u001b[39;00m \u001b[39mself\u001b[39m\u001b[39m.\u001b[39mchunked \u001b[39mand\u001b[39;00m \u001b[39mself\u001b[39m\u001b[39m.\u001b[39msupports_chunked_reads():\n\u001b[0;32m--> 575\u001b[0m     \u001b[39mfor\u001b[39;00m line \u001b[39min\u001b[39;00m \u001b[39mself\u001b[39m\u001b[39m.\u001b[39mread_chunked(amt, decode_content\u001b[39m=\u001b[39mdecode_content):\n\u001b[1;32m    576\u001b[0m         \u001b[39myield\u001b[39;00m line\n\u001b[1;32m    577\u001b[0m \u001b[39melse\u001b[39;00m:\n",
      "File \u001b[0;32m/opt/homebrew/Caskroom/miniforge/base/envs/ML1/lib/python3.9/site-packages/urllib3/response.py:767\u001b[0m, in \u001b[0;36mHTTPResponse.read_chunked\u001b[0;34m(self, amt, decode_content)\u001b[0m\n\u001b[1;32m    764\u001b[0m     \u001b[39mreturn\u001b[39;00m\n\u001b[1;32m    766\u001b[0m \u001b[39mwhile\u001b[39;00m \u001b[39mTrue\u001b[39;00m:\n\u001b[0;32m--> 767\u001b[0m     \u001b[39mself\u001b[39;49m\u001b[39m.\u001b[39;49m_update_chunk_length()\n\u001b[1;32m    768\u001b[0m     \u001b[39mif\u001b[39;00m \u001b[39mself\u001b[39m\u001b[39m.\u001b[39mchunk_left \u001b[39m==\u001b[39m \u001b[39m0\u001b[39m:\n\u001b[1;32m    769\u001b[0m         \u001b[39mbreak\u001b[39;00m\n",
      "File \u001b[0;32m/opt/homebrew/Caskroom/miniforge/base/envs/ML1/lib/python3.9/site-packages/urllib3/response.py:697\u001b[0m, in \u001b[0;36mHTTPResponse._update_chunk_length\u001b[0;34m(self)\u001b[0m\n\u001b[1;32m    695\u001b[0m \u001b[39mif\u001b[39;00m \u001b[39mself\u001b[39m\u001b[39m.\u001b[39mchunk_left \u001b[39mis\u001b[39;00m \u001b[39mnot\u001b[39;00m \u001b[39mNone\u001b[39;00m:\n\u001b[1;32m    696\u001b[0m     \u001b[39mreturn\u001b[39;00m\n\u001b[0;32m--> 697\u001b[0m line \u001b[39m=\u001b[39m \u001b[39mself\u001b[39;49m\u001b[39m.\u001b[39;49m_fp\u001b[39m.\u001b[39;49mfp\u001b[39m.\u001b[39;49mreadline()\n\u001b[1;32m    698\u001b[0m line \u001b[39m=\u001b[39m line\u001b[39m.\u001b[39msplit(\u001b[39mb\u001b[39m\u001b[39m\"\u001b[39m\u001b[39m;\u001b[39m\u001b[39m\"\u001b[39m, \u001b[39m1\u001b[39m)[\u001b[39m0\u001b[39m]\n\u001b[1;32m    699\u001b[0m \u001b[39mtry\u001b[39;00m:\n",
      "File \u001b[0;32m/opt/homebrew/Caskroom/miniforge/base/envs/ML1/lib/python3.9/socket.py:704\u001b[0m, in \u001b[0;36mSocketIO.readinto\u001b[0;34m(self, b)\u001b[0m\n\u001b[1;32m    702\u001b[0m \u001b[39mwhile\u001b[39;00m \u001b[39mTrue\u001b[39;00m:\n\u001b[1;32m    703\u001b[0m     \u001b[39mtry\u001b[39;00m:\n\u001b[0;32m--> 704\u001b[0m         \u001b[39mreturn\u001b[39;00m \u001b[39mself\u001b[39;49m\u001b[39m.\u001b[39;49m_sock\u001b[39m.\u001b[39;49mrecv_into(b)\n\u001b[1;32m    705\u001b[0m     \u001b[39mexcept\u001b[39;00m timeout:\n\u001b[1;32m    706\u001b[0m         \u001b[39mself\u001b[39m\u001b[39m.\u001b[39m_timeout_occurred \u001b[39m=\u001b[39m \u001b[39mTrue\u001b[39;00m\n",
      "File \u001b[0;32m/opt/homebrew/Caskroom/miniforge/base/envs/ML1/lib/python3.9/ssl.py:1241\u001b[0m, in \u001b[0;36mSSLSocket.recv_into\u001b[0;34m(self, buffer, nbytes, flags)\u001b[0m\n\u001b[1;32m   1237\u001b[0m     \u001b[39mif\u001b[39;00m flags \u001b[39m!=\u001b[39m \u001b[39m0\u001b[39m:\n\u001b[1;32m   1238\u001b[0m         \u001b[39mraise\u001b[39;00m \u001b[39mValueError\u001b[39;00m(\n\u001b[1;32m   1239\u001b[0m           \u001b[39m\"\u001b[39m\u001b[39mnon-zero flags not allowed in calls to recv_into() on \u001b[39m\u001b[39m%s\u001b[39;00m\u001b[39m\"\u001b[39m \u001b[39m%\u001b[39m\n\u001b[1;32m   1240\u001b[0m           \u001b[39mself\u001b[39m\u001b[39m.\u001b[39m\u001b[39m__class__\u001b[39m)\n\u001b[0;32m-> 1241\u001b[0m     \u001b[39mreturn\u001b[39;00m \u001b[39mself\u001b[39;49m\u001b[39m.\u001b[39;49mread(nbytes, buffer)\n\u001b[1;32m   1242\u001b[0m \u001b[39melse\u001b[39;00m:\n\u001b[1;32m   1243\u001b[0m     \u001b[39mreturn\u001b[39;00m \u001b[39msuper\u001b[39m()\u001b[39m.\u001b[39mrecv_into(buffer, nbytes, flags)\n",
      "File \u001b[0;32m/opt/homebrew/Caskroom/miniforge/base/envs/ML1/lib/python3.9/ssl.py:1099\u001b[0m, in \u001b[0;36mSSLSocket.read\u001b[0;34m(self, len, buffer)\u001b[0m\n\u001b[1;32m   1097\u001b[0m \u001b[39mtry\u001b[39;00m:\n\u001b[1;32m   1098\u001b[0m     \u001b[39mif\u001b[39;00m buffer \u001b[39mis\u001b[39;00m \u001b[39mnot\u001b[39;00m \u001b[39mNone\u001b[39;00m:\n\u001b[0;32m-> 1099\u001b[0m         \u001b[39mreturn\u001b[39;00m \u001b[39mself\u001b[39;49m\u001b[39m.\u001b[39;49m_sslobj\u001b[39m.\u001b[39;49mread(\u001b[39mlen\u001b[39;49m, buffer)\n\u001b[1;32m   1100\u001b[0m     \u001b[39melse\u001b[39;00m:\n\u001b[1;32m   1101\u001b[0m         \u001b[39mreturn\u001b[39;00m \u001b[39mself\u001b[39m\u001b[39m.\u001b[39m_sslobj\u001b[39m.\u001b[39mread(\u001b[39mlen\u001b[39m)\n",
      "\u001b[0;31mKeyboardInterrupt\u001b[0m: "
     ]
    }
   ],
   "source": [
    "# Trop long 60 Jours\n",
    "\n",
    "from alive_progress import alive_bar\n",
    "\n",
    "f_out = open(\"MWE/mwe_id.csv\", \"w\")\n",
    "\n",
    "with alive_bar(len(df.index), force_tty=True) as bar:\n",
    "    for index, row in df.iterrows():\n",
    "        #print(row['id'], row['words'])\n",
    "        line = str(row['id']) + \";\"\n",
    "        #print(str(row['id']) + ' -> ')\n",
    "        for word in str(row['words']).split(\" \"): \n",
    "            #print(word)\n",
    "            #print(JDM.Terme(word).getID())\n",
    "            line += str(JDM.Terme(word).getID()) + \" \"\n",
    "        line = line.rstrip()\n",
    "        line += \";\\n\"\n",
    "        f_out.writelines(line)\n",
    "        bar()\n",
    "\n",
    "f_out.close()\n"
   ]
  },
  {
   "cell_type": "code",
   "execution_count": null,
   "metadata": {},
   "outputs": [],
   "source": [
    "df.loc[df['id'] == 9]"
   ]
  },
  {
   "cell_type": "code",
   "execution_count": 30,
   "metadata": {},
   "outputs": [
    {
     "ename": "KeyError",
     "evalue": "'word'",
     "output_type": "error",
     "traceback": [
      "\u001b[0;31m---------------------------------------------------------------------------\u001b[0m",
      "\u001b[0;31mKeyError\u001b[0m                                  Traceback (most recent call last)",
      "File \u001b[0;32m/opt/homebrew/Caskroom/miniforge/base/envs/ML1/lib/python3.9/site-packages/pandas/core/indexes/base.py:3621\u001b[0m, in \u001b[0;36mIndex.get_loc\u001b[0;34m(self, key, method, tolerance)\u001b[0m\n\u001b[1;32m   3620\u001b[0m \u001b[39mtry\u001b[39;00m:\n\u001b[0;32m-> 3621\u001b[0m     \u001b[39mreturn\u001b[39;00m \u001b[39mself\u001b[39;49m\u001b[39m.\u001b[39;49m_engine\u001b[39m.\u001b[39;49mget_loc(casted_key)\n\u001b[1;32m   3622\u001b[0m \u001b[39mexcept\u001b[39;00m \u001b[39mKeyError\u001b[39;00m \u001b[39mas\u001b[39;00m err:\n",
      "File \u001b[0;32m/opt/homebrew/Caskroom/miniforge/base/envs/ML1/lib/python3.9/site-packages/pandas/_libs/index.pyx:136\u001b[0m, in \u001b[0;36mpandas._libs.index.IndexEngine.get_loc\u001b[0;34m()\u001b[0m\n",
      "File \u001b[0;32m/opt/homebrew/Caskroom/miniforge/base/envs/ML1/lib/python3.9/site-packages/pandas/_libs/index.pyx:163\u001b[0m, in \u001b[0;36mpandas._libs.index.IndexEngine.get_loc\u001b[0;34m()\u001b[0m\n",
      "File \u001b[0;32mpandas/_libs/hashtable_class_helper.pxi:5198\u001b[0m, in \u001b[0;36mpandas._libs.hashtable.PyObjectHashTable.get_item\u001b[0;34m()\u001b[0m\n",
      "File \u001b[0;32mpandas/_libs/hashtable_class_helper.pxi:5206\u001b[0m, in \u001b[0;36mpandas._libs.hashtable.PyObjectHashTable.get_item\u001b[0;34m()\u001b[0m\n",
      "\u001b[0;31mKeyError\u001b[0m: 'word'",
      "\nThe above exception was the direct cause of the following exception:\n",
      "\u001b[0;31mKeyError\u001b[0m                                  Traceback (most recent call last)",
      "\u001b[1;32m/Users/lucasaissaoui/Git/JeuxDeMots/mwe_id.ipynb Cellule 16\u001b[0m in \u001b[0;36m<module>\u001b[0;34m\u001b[0m\n\u001b[0;32m----> <a href='vscode-notebook-cell:/Users/lucasaissaoui/Git/JeuxDeMots/mwe_id.ipynb#X12sZmlsZQ%3D%3D?line=0'>1</a>\u001b[0m df\u001b[39m.\u001b[39mloc[df[\u001b[39m'\u001b[39;49m\u001b[39mword\u001b[39;49m\u001b[39m'\u001b[39;49m] \u001b[39m==\u001b[39m \u001b[39m\"\u001b[39m\u001b[39mMaria Callas\u001b[39m\u001b[39m\"\u001b[39m]\n",
      "File \u001b[0;32m/opt/homebrew/Caskroom/miniforge/base/envs/ML1/lib/python3.9/site-packages/pandas/core/frame.py:3506\u001b[0m, in \u001b[0;36mDataFrame.__getitem__\u001b[0;34m(self, key)\u001b[0m\n\u001b[1;32m   3504\u001b[0m \u001b[39mif\u001b[39;00m \u001b[39mself\u001b[39m\u001b[39m.\u001b[39mcolumns\u001b[39m.\u001b[39mnlevels \u001b[39m>\u001b[39m \u001b[39m1\u001b[39m:\n\u001b[1;32m   3505\u001b[0m     \u001b[39mreturn\u001b[39;00m \u001b[39mself\u001b[39m\u001b[39m.\u001b[39m_getitem_multilevel(key)\n\u001b[0;32m-> 3506\u001b[0m indexer \u001b[39m=\u001b[39m \u001b[39mself\u001b[39;49m\u001b[39m.\u001b[39;49mcolumns\u001b[39m.\u001b[39;49mget_loc(key)\n\u001b[1;32m   3507\u001b[0m \u001b[39mif\u001b[39;00m is_integer(indexer):\n\u001b[1;32m   3508\u001b[0m     indexer \u001b[39m=\u001b[39m [indexer]\n",
      "File \u001b[0;32m/opt/homebrew/Caskroom/miniforge/base/envs/ML1/lib/python3.9/site-packages/pandas/core/indexes/base.py:3623\u001b[0m, in \u001b[0;36mIndex.get_loc\u001b[0;34m(self, key, method, tolerance)\u001b[0m\n\u001b[1;32m   3621\u001b[0m     \u001b[39mreturn\u001b[39;00m \u001b[39mself\u001b[39m\u001b[39m.\u001b[39m_engine\u001b[39m.\u001b[39mget_loc(casted_key)\n\u001b[1;32m   3622\u001b[0m \u001b[39mexcept\u001b[39;00m \u001b[39mKeyError\u001b[39;00m \u001b[39mas\u001b[39;00m err:\n\u001b[0;32m-> 3623\u001b[0m     \u001b[39mraise\u001b[39;00m \u001b[39mKeyError\u001b[39;00m(key) \u001b[39mfrom\u001b[39;00m \u001b[39merr\u001b[39;00m\n\u001b[1;32m   3624\u001b[0m \u001b[39mexcept\u001b[39;00m \u001b[39mTypeError\u001b[39;00m:\n\u001b[1;32m   3625\u001b[0m     \u001b[39m# If we have a listlike key, _check_indexing_error will raise\u001b[39;00m\n\u001b[1;32m   3626\u001b[0m     \u001b[39m#  InvalidIndexError. Otherwise we fall through and re-raise\u001b[39;00m\n\u001b[1;32m   3627\u001b[0m     \u001b[39m#  the TypeError.\u001b[39;00m\n\u001b[1;32m   3628\u001b[0m     \u001b[39mself\u001b[39m\u001b[39m.\u001b[39m_check_indexing_error(key)\n",
      "\u001b[0;31mKeyError\u001b[0m: 'word'"
     ]
    }
   ],
   "source": [
    "df.loc[df['word'] == \"Maria Callas\"]"
   ]
  }
 ],
 "metadata": {
  "kernelspec": {
   "display_name": "Python 3.9.0 ('ML1')",
   "language": "python",
   "name": "python3"
  },
  "language_info": {
   "codemirror_mode": {
    "name": "ipython",
    "version": 3
   },
   "file_extension": ".py",
   "mimetype": "text/x-python",
   "name": "python",
   "nbconvert_exporter": "python",
   "pygments_lexer": "ipython3",
   "version": "3.9.0"
  },
  "orig_nbformat": 4,
  "vscode": {
   "interpreter": {
    "hash": "cdf400e2b2cf645b2ec6a448fcb5b3c1b3d3d5834714944466c9c0370880fa51"
   }
  }
 },
 "nbformat": 4,
 "nbformat_minor": 2
}
