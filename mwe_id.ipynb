{
 "cells": [
  {
   "cell_type": "code",
   "execution_count": 15,
   "metadata": {},
   "outputs": [],
   "source": [
    "import JDM"
   ]
  },
  {
   "cell_type": "code",
   "execution_count": 16,
   "metadata": {},
   "outputs": [
    {
     "name": "stdout",
     "output_type": "stream",
     "text": [
      "T[{'avant': T[{'toi': T[E,{}], 'lui': T[E,{}], 'eux': T[E,{}]}], 'pour': T[{'lui': T[E,{}]}]}]\n",
      "['avant toi', 'avant lui', 'avant eux', 'pour lui']\n"
     ]
    }
   ],
   "source": [
    "t=Trie() \n",
    "t.addword([\"avant\", \"toi\"])\n",
    "t.addword([\"avant\", \"lui\"])\n",
    "t.addword([\"pour\", \"lui\"])\n",
    "t.addword([\"avant\", \"eux\"])\n",
    "\n",
    "rs=t.words()\n",
    "\n",
    "print(t)\n",
    "print(rs)"
   ]
  },
  {
   "cell_type": "code",
   "execution_count": 18,
   "metadata": {},
   "outputs": [
    {
     "name": "stdout",
     "output_type": "stream",
     "text": [
      "['avant'] is in Trie\n",
      "['toi', 'lui', 'eux']\n"
     ]
    }
   ],
   "source": [
    "t.searchword([\"avant\"])"
   ]
  },
  {
   "cell_type": "markdown",
   "metadata": {},
   "source": [
    "# Construction de l'arbre d'id"
   ]
  },
  {
   "cell_type": "code",
   "execution_count": 19,
   "metadata": {},
   "outputs": [],
   "source": [
    "import pandas as pd"
   ]
  },
  {
   "cell_type": "code",
   "execution_count": 20,
   "metadata": {},
   "outputs": [],
   "source": [
    "JDM.Terme.initMyLocalDataBase() "
   ]
  },
  {
   "cell_type": "code",
   "execution_count": 8,
   "metadata": {},
   "outputs": [],
   "source": [
    "f_in = open('MWE/mwe.csv', 'r')\n",
    "Lines = f_in.readlines()\n",
    "f_in.close() \n",
    "\n",
    "f_out = open(\"MWE/mwe_id_word.csv\", \"a\")\n",
    "\n",
    "  \n",
    "for line in Lines:\n",
    "    linesplit = line.split(\";\")\n",
    "    f_out.write(linesplit[0] + \";\" + linesplit[1].replace('\\\"', '') + \"\\n\")\n",
    "\n",
    "f_out.close()"
   ]
  },
  {
   "cell_type": "code",
   "execution_count": 9,
   "metadata": {},
   "outputs": [],
   "source": [
    "df = pd.read_csv(\"MWE/mwe_id_word.csv\", sep=\";\")"
   ]
  },
  {
   "cell_type": "code",
   "execution_count": 10,
   "metadata": {},
   "outputs": [
    {
     "data": {
      "text/html": [
       "<div>\n",
       "<style scoped>\n",
       "    .dataframe tbody tr th:only-of-type {\n",
       "        vertical-align: middle;\n",
       "    }\n",
       "\n",
       "    .dataframe tbody tr th {\n",
       "        vertical-align: top;\n",
       "    }\n",
       "\n",
       "    .dataframe thead th {\n",
       "        text-align: right;\n",
       "    }\n",
       "</style>\n",
       "<table border=\"1\" class=\"dataframe\">\n",
       "  <thead>\n",
       "    <tr style=\"text-align: right;\">\n",
       "      <th></th>\n",
       "      <th>id</th>\n",
       "      <th>words</th>\n",
       "    </tr>\n",
       "  </thead>\n",
       "  <tbody>\n",
       "    <tr>\n",
       "      <th>0</th>\n",
       "      <td>9</td>\n",
       "      <td>avant toute chose</td>\n",
       "    </tr>\n",
       "    <tr>\n",
       "      <th>1</th>\n",
       "      <td>15</td>\n",
       "      <td>sir Sacheverell Sitwell</td>\n",
       "    </tr>\n",
       "    <tr>\n",
       "      <th>2</th>\n",
       "      <td>16</td>\n",
       "      <td>Maria Callas</td>\n",
       "    </tr>\n",
       "    <tr>\n",
       "      <th>3</th>\n",
       "      <td>21</td>\n",
       "      <td>Marcel Gotlieb Gotlib</td>\n",
       "    </tr>\n",
       "    <tr>\n",
       "      <th>4</th>\n",
       "      <td>23</td>\n",
       "      <td>art et architecture catalans</td>\n",
       "    </tr>\n",
       "    <tr>\n",
       "      <th>...</th>\n",
       "      <td>...</td>\n",
       "      <td>...</td>\n",
       "    </tr>\n",
       "    <tr>\n",
       "      <th>1738439</th>\n",
       "      <td>66465572</td>\n",
       "      <td>équipe d'Allemagne féminine de hockey sur glace</td>\n",
       "    </tr>\n",
       "    <tr>\n",
       "      <th>1738440</th>\n",
       "      <td>66495297</td>\n",
       "      <td>faculté de médecine de Montpellier-Nîmes</td>\n",
       "    </tr>\n",
       "    <tr>\n",
       "      <th>1738441</th>\n",
       "      <td>66495298</td>\n",
       "      <td>Vincent Lisowski</td>\n",
       "    </tr>\n",
       "    <tr>\n",
       "      <th>1738442</th>\n",
       "      <td>66495449</td>\n",
       "      <td>Hôpitaux et Universités</td>\n",
       "    </tr>\n",
       "    <tr>\n",
       "      <th>1738443</th>\n",
       "      <td>66498566</td>\n",
       "      <td>Association internationale des barmen</td>\n",
       "    </tr>\n",
       "  </tbody>\n",
       "</table>\n",
       "<p>1738444 rows × 2 columns</p>\n",
       "</div>"
      ],
      "text/plain": [
       "               id                                            words\n",
       "0               9                                avant toute chose\n",
       "1              15                          sir Sacheverell Sitwell\n",
       "2              16                                     Maria Callas\n",
       "3              21                            Marcel Gotlieb Gotlib\n",
       "4              23                     art et architecture catalans\n",
       "...           ...                                              ...\n",
       "1738439  66465572  équipe d'Allemagne féminine de hockey sur glace\n",
       "1738440  66495297         faculté de médecine de Montpellier-Nîmes\n",
       "1738441  66495298                                 Vincent Lisowski\n",
       "1738442  66495449                          Hôpitaux et Universités\n",
       "1738443  66498566            Association internationale des barmen\n",
       "\n",
       "[1738444 rows x 2 columns]"
      ]
     },
     "execution_count": 10,
     "metadata": {},
     "output_type": "execute_result"
    }
   ],
   "source": [
    "df"
   ]
  },
  {
   "cell_type": "code",
   "execution_count": 13,
   "metadata": {},
   "outputs": [
    {
     "name": "stdout",
     "output_type": "stream",
     "text": [
      "|████████████████████████████████████████| 1738444/1738444 [100%] in 29.6s (58694.87/s) \n"
     ]
    }
   ],
   "source": [
    "from alive_progress import alive_bar\n",
    "\n",
    "t_search = Trie() \n",
    "\n",
    "with alive_bar(len(df.index), force_tty=None) as bar:\n",
    "    for index, row in df.iterrows():\n",
    "        t_search.addword(row['words'].split())\n",
    "        \n",
    "        bar()"
   ]
  },
  {
   "cell_type": "code",
   "execution_count": 14,
   "metadata": {},
   "outputs": [],
   "source": [
    "\n",
    "rs=t_search.words()\n",
    "\n",
    "print(t_search)\n",
    "print(rs)"
   ]
  },
  {
   "cell_type": "code",
   "execution_count": 24,
   "metadata": {},
   "outputs": [
    {
     "name": "stdout",
     "output_type": "stream",
     "text": [
      "['23154329', '231329', '2315', '24329', 'avanttoutechose', 'sirSacheverellSitwell', 'MariaCallas', 'MarcelGotliebGotlib', 'artetarchitecturecatalans', 'AmericanFriendsServiceCommittee', 'AlexanderRoslin', 'représentationnationale', 'Phaseolusvulgaris']\n"
     ]
    }
   ],
   "source": [
    "rs=t.words()\n",
    "print(rs)"
   ]
  },
  {
   "cell_type": "code",
   "execution_count": null,
   "metadata": {},
   "outputs": [],
   "source": [
    "# Trop long 60 Jours\n",
    "\n",
    "from alive_progress import alive_bar\n",
    "\n",
    "f_out = open(\"MWE/mwe_id.csv\", \"w\")\n",
    "\n",
    "with alive_bar(len(df.index), force_tty=True) as bar:\n",
    "    for index, row in df.iterrows():\n",
    "        #print(row['id'], row['words'])\n",
    "        line = str(row['id']) + \";\"\n",
    "        #print(str(row['id']) + ' -> ')\n",
    "        for word in str(row['words']).split(\" \"): \n",
    "            #print(word)\n",
    "            #print(JDM.Terme(word).getID())\n",
    "            line += str(JDM.Terme(word).getID()) + \" \"\n",
    "        line = line.rstrip()\n",
    "        line += \";\\n\"\n",
    "        f_out.writelines(line)\n",
    "        bar()\n",
    "\n",
    "f_out.close()\n"
   ]
  },
  {
   "cell_type": "code",
   "execution_count": null,
   "metadata": {},
   "outputs": [],
   "source": [
    "df.loc[df['id'] == 9]"
   ]
  },
  {
   "cell_type": "code",
   "execution_count": 30,
   "metadata": {},
   "outputs": [
    {
     "ename": "KeyError",
     "evalue": "'word'",
     "output_type": "error",
     "traceback": [
      "\u001b[0;31m---------------------------------------------------------------------------\u001b[0m",
      "\u001b[0;31mKeyError\u001b[0m                                  Traceback (most recent call last)",
      "File \u001b[0;32m/opt/homebrew/Caskroom/miniforge/base/envs/ML1/lib/python3.9/site-packages/pandas/core/indexes/base.py:3621\u001b[0m, in \u001b[0;36mIndex.get_loc\u001b[0;34m(self, key, method, tolerance)\u001b[0m\n\u001b[1;32m   3620\u001b[0m \u001b[39mtry\u001b[39;00m:\n\u001b[0;32m-> 3621\u001b[0m     \u001b[39mreturn\u001b[39;00m \u001b[39mself\u001b[39;49m\u001b[39m.\u001b[39;49m_engine\u001b[39m.\u001b[39;49mget_loc(casted_key)\n\u001b[1;32m   3622\u001b[0m \u001b[39mexcept\u001b[39;00m \u001b[39mKeyError\u001b[39;00m \u001b[39mas\u001b[39;00m err:\n",
      "File \u001b[0;32m/opt/homebrew/Caskroom/miniforge/base/envs/ML1/lib/python3.9/site-packages/pandas/_libs/index.pyx:136\u001b[0m, in \u001b[0;36mpandas._libs.index.IndexEngine.get_loc\u001b[0;34m()\u001b[0m\n",
      "File \u001b[0;32m/opt/homebrew/Caskroom/miniforge/base/envs/ML1/lib/python3.9/site-packages/pandas/_libs/index.pyx:163\u001b[0m, in \u001b[0;36mpandas._libs.index.IndexEngine.get_loc\u001b[0;34m()\u001b[0m\n",
      "File \u001b[0;32mpandas/_libs/hashtable_class_helper.pxi:5198\u001b[0m, in \u001b[0;36mpandas._libs.hashtable.PyObjectHashTable.get_item\u001b[0;34m()\u001b[0m\n",
      "File \u001b[0;32mpandas/_libs/hashtable_class_helper.pxi:5206\u001b[0m, in \u001b[0;36mpandas._libs.hashtable.PyObjectHashTable.get_item\u001b[0;34m()\u001b[0m\n",
      "\u001b[0;31mKeyError\u001b[0m: 'word'",
      "\nThe above exception was the direct cause of the following exception:\n",
      "\u001b[0;31mKeyError\u001b[0m                                  Traceback (most recent call last)",
      "\u001b[1;32m/Users/lucasaissaoui/Git/JeuxDeMots/mwe_id.ipynb Cellule 16\u001b[0m in \u001b[0;36m<module>\u001b[0;34m\u001b[0m\n\u001b[0;32m----> <a href='vscode-notebook-cell:/Users/lucasaissaoui/Git/JeuxDeMots/mwe_id.ipynb#X12sZmlsZQ%3D%3D?line=0'>1</a>\u001b[0m df\u001b[39m.\u001b[39mloc[df[\u001b[39m'\u001b[39;49m\u001b[39mword\u001b[39;49m\u001b[39m'\u001b[39;49m] \u001b[39m==\u001b[39m \u001b[39m\"\u001b[39m\u001b[39mMaria Callas\u001b[39m\u001b[39m\"\u001b[39m]\n",
      "File \u001b[0;32m/opt/homebrew/Caskroom/miniforge/base/envs/ML1/lib/python3.9/site-packages/pandas/core/frame.py:3506\u001b[0m, in \u001b[0;36mDataFrame.__getitem__\u001b[0;34m(self, key)\u001b[0m\n\u001b[1;32m   3504\u001b[0m \u001b[39mif\u001b[39;00m \u001b[39mself\u001b[39m\u001b[39m.\u001b[39mcolumns\u001b[39m.\u001b[39mnlevels \u001b[39m>\u001b[39m \u001b[39m1\u001b[39m:\n\u001b[1;32m   3505\u001b[0m     \u001b[39mreturn\u001b[39;00m \u001b[39mself\u001b[39m\u001b[39m.\u001b[39m_getitem_multilevel(key)\n\u001b[0;32m-> 3506\u001b[0m indexer \u001b[39m=\u001b[39m \u001b[39mself\u001b[39;49m\u001b[39m.\u001b[39;49mcolumns\u001b[39m.\u001b[39;49mget_loc(key)\n\u001b[1;32m   3507\u001b[0m \u001b[39mif\u001b[39;00m is_integer(indexer):\n\u001b[1;32m   3508\u001b[0m     indexer \u001b[39m=\u001b[39m [indexer]\n",
      "File \u001b[0;32m/opt/homebrew/Caskroom/miniforge/base/envs/ML1/lib/python3.9/site-packages/pandas/core/indexes/base.py:3623\u001b[0m, in \u001b[0;36mIndex.get_loc\u001b[0;34m(self, key, method, tolerance)\u001b[0m\n\u001b[1;32m   3621\u001b[0m     \u001b[39mreturn\u001b[39;00m \u001b[39mself\u001b[39m\u001b[39m.\u001b[39m_engine\u001b[39m.\u001b[39mget_loc(casted_key)\n\u001b[1;32m   3622\u001b[0m \u001b[39mexcept\u001b[39;00m \u001b[39mKeyError\u001b[39;00m \u001b[39mas\u001b[39;00m err:\n\u001b[0;32m-> 3623\u001b[0m     \u001b[39mraise\u001b[39;00m \u001b[39mKeyError\u001b[39;00m(key) \u001b[39mfrom\u001b[39;00m \u001b[39merr\u001b[39;00m\n\u001b[1;32m   3624\u001b[0m \u001b[39mexcept\u001b[39;00m \u001b[39mTypeError\u001b[39;00m:\n\u001b[1;32m   3625\u001b[0m     \u001b[39m# If we have a listlike key, _check_indexing_error will raise\u001b[39;00m\n\u001b[1;32m   3626\u001b[0m     \u001b[39m#  InvalidIndexError. Otherwise we fall through and re-raise\u001b[39;00m\n\u001b[1;32m   3627\u001b[0m     \u001b[39m#  the TypeError.\u001b[39;00m\n\u001b[1;32m   3628\u001b[0m     \u001b[39mself\u001b[39m\u001b[39m.\u001b[39m_check_indexing_error(key)\n",
      "\u001b[0;31mKeyError\u001b[0m: 'word'"
     ]
    }
   ],
   "source": [
    "df.loc[df['word'] == \"Maria Callas\"]"
   ]
  }
 ],
 "metadata": {
  "kernelspec": {
   "display_name": "Python 3.9.0 ('ML1')",
   "language": "python",
   "name": "python3"
  },
  "language_info": {
   "codemirror_mode": {
    "name": "ipython",
    "version": 3
   },
   "file_extension": ".py",
   "mimetype": "text/x-python",
   "name": "python",
   "nbconvert_exporter": "python",
   "pygments_lexer": "ipython3",
   "version": "3.9.0"
  },
  "orig_nbformat": 4,
  "vscode": {
   "interpreter": {
    "hash": "cdf400e2b2cf645b2ec6a448fcb5b3c1b3d3d5834714944466c9c0370880fa51"
   }
  }
 },
 "nbformat": 4,
 "nbformat_minor": 2
}
