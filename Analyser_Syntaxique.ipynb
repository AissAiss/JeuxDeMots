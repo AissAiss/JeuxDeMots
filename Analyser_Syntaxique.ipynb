{
 "cells": [
  {
   "cell_type": "code",
   "execution_count": 1,
   "metadata": {},
   "outputs": [],
   "source": [
    "import JDM\n",
    "import pandas as pd"
   ]
  },
  {
   "cell_type": "code",
   "execution_count": 2,
   "metadata": {},
   "outputs": [],
   "source": [
    "t_search = JDM.Trie() \n",
    "\n",
    "def build_mwe(): \n",
    "    df = pd.read_csv(\"MWE/mwe_id_word.csv\", sep=\";\")\n",
    "\n",
    "    from alive_progress import alive_bar\n",
    "\n",
    "    with alive_bar(len(df.index), force_tty=None) as bar:\n",
    "        for index, row in df.iterrows():\n",
    "            t_search.addword(row['words'].split())\n",
    "            \n",
    "            bar()"
   ]
  },
  {
   "cell_type": "code",
   "execution_count": 3,
   "metadata": {},
   "outputs": [
    {
     "name": "stdout",
     "output_type": "stream",
     "text": [
      "|████████████████████████████████████████| 1738444/1738444 [100%] in 1:27.2 (19925.01/s) \n"
     ]
    }
   ],
   "source": [
    "build_mwe()"
   ]
  },
  {
   "cell_type": "code",
   "execution_count": 4,
   "metadata": {},
   "outputs": [],
   "source": [
    "def analyser(phrase): \n",
    "    # Analyser une phrase\n",
    "    phrase = phrase.split(\" \")\n",
    "\n",
    "    print(t_search.isCT([phrase[0]])) \n",
    "\n",
    "\n",
    "    print(phrase)"
   ]
  },
  {
   "cell_type": "code",
   "execution_count": 5,
   "metadata": {},
   "outputs": [
    {
     "name": "stdout",
     "output_type": "stream",
     "text": [
      "True\n",
      "['Le', 'chat', 'blanc', 'boit', 'du', 'lait', 'de', 'chèvre']\n"
     ]
    }
   ],
   "source": [
    "analyser(\"Le chat blanc boit du lait de chèvre\")"
   ]
  }
 ],
 "metadata": {
  "kernelspec": {
   "display_name": "Python 3",
   "language": "python",
   "name": "python3"
  },
  "language_info": {
   "codemirror_mode": {
    "name": "ipython",
    "version": 3
   },
   "file_extension": ".py",
   "mimetype": "text/x-python",
   "name": "python",
   "nbconvert_exporter": "python",
   "pygments_lexer": "ipython3",
   "version": "3.10.6"
  },
  "orig_nbformat": 4,
  "vscode": {
   "interpreter": {
    "hash": "e7370f93d1d0cde622a1f8e1c04877d8463912d04d973331ad4851f04de6915a"
   }
  }
 },
 "nbformat": 4,
 "nbformat_minor": 2
}
