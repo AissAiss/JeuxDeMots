{
 "cells": [
  {
   "cell_type": "code",
   "execution_count": 1,
   "metadata": {},
   "outputs": [],
   "source": [
    "import JDM\n",
    "import pandas as pd"
   ]
  },
  {
   "cell_type": "code",
   "execution_count": 2,
   "metadata": {},
   "outputs": [],
   "source": [
    "t_search = JDM.Trie() \n",
    "\n",
    "def build_mwe(): \n",
    "    df = pd.read_csv(\"MWE/mwe_id_word.csv\", sep=\";\")\n",
    "\n",
    "    from alive_progress import alive_bar\n",
    "\n",
    "    with alive_bar(len(df.index), force_tty=None) as bar:\n",
    "        for index, row in df.iterrows():\n",
    "            t_search.addword(row['words'].split())\n",
    "            \n",
    "            bar()"
   ]
  },
  {
   "cell_type": "code",
   "execution_count": 3,
   "metadata": {},
   "outputs": [
    {
     "name": "stdout",
     "output_type": "stream",
     "text": [
      "|████████████████████████████████████████| 1738444/1738444 [100%] in 1:26.9 (19993.74/s) \n"
     ]
    }
   ],
   "source": [
    "build_mwe()"
   ]
  },
  {
   "cell_type": "code",
   "execution_count": 39,
   "metadata": {},
   "outputs": [],
   "source": [
    "def remove_useless_words(phrase):\n",
    "    # Enlever la majuscule au début\n",
    "    phrase = phrase[0].lower() + phrase[1:]\n",
    "\n",
    "    # Enlever les articles\n",
    "    phrase = phrase.replace(\"le\", \"\")\n",
    "    phrase = phrase.replace(\"la\", \"\")\n",
    "    phrase = phrase.replace(\"les\", \"\")\n",
    "    phrase = phrase.replace(\"un\", \"\")\n",
    "    phrase = phrase.replace(\"une\", \"\")\n",
    "    phrase = phrase.replace(\"des\", \"\")\n",
    "    phrase = phrase.replace(\"du\", \"\")\n",
    "    phrase = phrase.replace(\"de\", \"\")\n",
    "\n",
    "    phrase = phrase.replace(\"  \", \" \")\n",
    "\n",
    "\n",
    "    return phrase\n",
    "\n",
    "def found_compound_terms(phrase): \n",
    "\n",
    "    #print(t_search.isCT([phrase[0], phrase[1]])) \n",
    "\n",
    "    compound_term = []\n",
    "    phrase_without_compound_terms = []\n",
    "\n",
    "    for i in range(len(phrase)):\n",
    "        print(\"for i : \", i)\n",
    "        compound_term = []\n",
    "\n",
    "        while i < len(phrase) and t_search.isCT(compound_term + [phrase[i]]): \n",
    "            print(\"while i : \", i)\n",
    "            compound_term += [phrase[i]]\n",
    "            i = i + 1\n",
    "\n",
    "        if len(compound_term) > 0: \n",
    "            # Transformer le tableau en string et l'ajouter à phrase_without_compound_terms\n",
    "            phrase_without_compound_terms += [''.join(compound_term)]\n",
    "        else : \n",
    "            # On ajout phrase[i] à phrase_without_compound_terms\n",
    "            phrase_without_compound_terms += [phrase[i]]\n",
    "\n",
    "\n",
    "\n",
    "        #print(i, phrase[i])\n",
    "\n",
    "    return phrase_without_compound_terms\n",
    "\n",
    "def analyser(phrase): \n",
    "    # Transformer la phrase en tableau\n",
    "    phrase = phrase.split(\" \")\n",
    "\n",
    "    # Trouver les termes composées\n",
    "    phrase = found_compound_terms(phrase)\n",
    "\n",
    "    \n",
    "\n",
    "\n",
    "    print(phrase)"
   ]
  },
  {
   "cell_type": "code",
   "execution_count": 40,
   "metadata": {},
   "outputs": [
    {
     "name": "stdout",
     "output_type": "stream",
     "text": [
      "True\n",
      "for i :  0\n",
      "while i :  0\n",
      "while i :  1\n",
      "for i :  1\n",
      "while i :  1\n",
      "while i :  2\n",
      "for i :  2\n",
      "while i :  2\n",
      "for i :  3\n",
      "while i :  3\n",
      "for i :  4\n",
      "while i :  4\n",
      "while i :  5\n",
      "for i :  5\n",
      "while i :  5\n",
      "while i :  6\n",
      "while i :  7\n",
      "for i :  6\n",
      "while i :  6\n",
      "while i :  7\n",
      "for i :  7\n",
      "while i :  7\n",
      "['Lechat', 'chatblanc', 'blanc', 'boit', 'dulait', 'laitdechèvre', 'dechèvre', 'chèvre']\n"
     ]
    }
   ],
   "source": [
    "analyser(\"Le chat blanc boit du lait de chèvre\")"
   ]
  }
 ],
 "metadata": {
  "kernelspec": {
   "display_name": "Python 3",
   "language": "python",
   "name": "python3"
  },
  "language_info": {
   "codemirror_mode": {
    "name": "ipython",
    "version": 3
   },
   "file_extension": ".py",
   "mimetype": "text/x-python",
   "name": "python",
   "nbconvert_exporter": "python",
   "pygments_lexer": "ipython3",
   "version": "3.10.6 (main, Nov 14 2022, 16:10:14) [GCC 11.3.0]"
  },
  "orig_nbformat": 4,
  "vscode": {
   "interpreter": {
    "hash": "e7370f93d1d0cde622a1f8e1c04877d8463912d04d973331ad4851f04de6915a"
   }
  }
 },
 "nbformat": 4,
 "nbformat_minor": 2
}
