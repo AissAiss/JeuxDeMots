{
 "cells": [
  {
   "cell_type": "code",
   "execution_count": 1,
   "id": "8171e817",
   "metadata": {},
   "outputs": [],
   "source": [
    "import pandas as pd"
   ]
  },
  {
   "cell_type": "code",
   "execution_count": 2,
   "id": "9107a676",
   "metadata": {},
   "outputs": [],
   "source": [
    "E = pd.read_csv(\"toto_e.csv\")\n",
    "RT = pd.read_csv(\"toto_rt.csv\", sep=\";\")\n",
    "NT = pd.read_csv(\"toto_nt.csv\")\n",
    "R = pd.read_csv(\"toto_r.csv\")"
   ]
  },
  {
   "cell_type": "code",
   "execution_count": null,
   "id": "13c60465",
   "metadata": {},
   "outputs": [],
   "source": [
    "for i in E.name: \n",
    "    if \">\" not in i:\n",
    "        print(i)"
   ]
  },
  {
   "cell_type": "code",
   "execution_count": 40,
   "id": "f0514010",
   "metadata": {},
   "outputs": [
    {
     "name": "stdout",
     "output_type": "stream",
     "text": [
      "['toto', 'sale', 'Suisse']\n"
     ]
    }
   ],
   "source": [
    "phrase = \"toto sale Suisse\"\n",
    "#phrase = \"toto débile\"\n",
    "mots = phrase.split(\" \")\n",
    "print(mots)"
   ]
  },
  {
   "cell_type": "code",
   "execution_count": 41,
   "id": "e4a0d9b2",
   "metadata": {},
   "outputs": [
    {
     "name": "stdout",
     "output_type": "stream",
     "text": [
      "{146753: 'toto', 142663: 'sale', 143431: 'Suisse'}\n"
     ]
    }
   ],
   "source": [
    "eids = {}\n",
    "\n",
    "for mot in mots: \n",
    "    eids[int(E.loc[E['name'] == mot]['eid'])] = mot\n",
    "    \n",
    "print(eids)"
   ]
  },
  {
   "cell_type": "code",
   "execution_count": 44,
   "id": "c81680a0",
   "metadata": {},
   "outputs": [
    {
     "name": "stdout",
     "output_type": "stream",
     "text": [
      "toto -> toto = 110\n",
      "toto -> sale = 21\n",
      "toto -> Suisse = 115\n",
      "246\n"
     ]
    }
   ],
   "source": [
    "tmp = 0 \n",
    "corr = 0\n",
    "\n",
    "for eid1 in eids: \n",
    "    for eid2 in eids : \n",
    "        tmp = R.loc[R['node1'] == str(eid1)].loc[R['node2'] == str(eid2)]['w'].astype('int32').sum()\n",
    "        corr += tmp\n",
    "        if tmp != 0 : \n",
    "            print(str(tmp) + \" : \" + str(eids[eid1]) + \" -> \" + str(eids[eid2]))\n",
    "            \n",
    "        #print(\"tmp : \" + str(tmp)) \n",
    "        #print(\"sum : \" + str(corr))\n",
    "\n",
    "print(corr)\n"
   ]
  },
  {
   "cell_type": "markdown",
   "id": "23a55202",
   "metadata": {},
   "source": [
    "# Big Cell"
   ]
  },
  {
   "cell_type": "code",
   "execution_count": 61,
   "id": "0cba02ce",
   "metadata": {},
   "outputs": [
    {
     "name": "stdout",
     "output_type": "stream",
     "text": [
      "['toto', 'sale', 'Suisse']\n",
      "{146753: 'toto', 142663: 'sale', 143431: 'Suisse'}\n",
      "110 : toto -> toto\n",
      "21 : toto -> sale\n",
      "115 : toto -> Suisse\n",
      "246\n"
     ]
    }
   ],
   "source": [
    "phrase = \"toto sale Suisse\"\n",
    "#phrase = \"Toto sale main\"\n",
    "mots = phrase.split(\" \")\n",
    "print(mots)\n",
    "\n",
    "eids = {}\n",
    "\n",
    "for mot in mots: \n",
    "    eids[int(E.loc[E['name'] == mot]['eid'])] = mot\n",
    "    \n",
    "print(eids)\n",
    "\n",
    "tmp = 0 \n",
    "corr = 0\n",
    "\n",
    "for eid1 in eids: \n",
    "    for eid2 in eids : \n",
    "        tmp = R.loc[R['node1'] == str(eid1)].loc[R['node2'] == str(eid2)]['w'].astype('int32').sum()\n",
    "        corr += tmp\n",
    "        if tmp != 0 : \n",
    "            print(str(tmp) + \" : \" + str(eids[eid1]) + \" -> \" + str(eids[eid2]))\n",
    "            \n",
    "        #print(\"tmp : \" + str(tmp)) \n",
    "        #print(\"sum : \" + str(corr))\n",
    "\n",
    "print(corr)"
   ]
  },
  {
   "cell_type": "markdown",
   "id": "48f38a3d",
   "metadata": {},
   "source": [
    "# Test avec A et B"
   ]
  },
  {
   "cell_type": "code",
   "execution_count": 3,
   "id": "38f4f3e7",
   "metadata": {},
   "outputs": [
    {
     "name": "stdout",
     "output_type": "stream",
     "text": [
      "['toto', 'Suisse']\n",
      "{146753: 'toto', 143431: 'Suisse'}\n",
      "110 : toto -> toto\n",
      "115 : toto -> Suisse\n",
      "225\n"
     ]
    }
   ],
   "source": [
    "A = \"toto\" \n",
    "B = \"Suisse\"\n",
    "\n",
    "\n",
    "phrase = A + \" \" + B\n",
    "#phrase = \"Toto sale main\"\n",
    "mots = phrase.split(\" \")\n",
    "print(mots)\n",
    "\n",
    "eids = {}\n",
    "\n",
    "for mot in mots: \n",
    "    eids[int(E.loc[E['name'] == mot]['eid'])] = mot\n",
    "    \n",
    "print(eids)\n",
    "\n",
    "tmp = 0 \n",
    "corr = 0\n",
    "\n",
    "for eid1 in eids: \n",
    "    for eid2 in eids : \n",
    "        tmp = R.loc[R['node1'] == str(eid1)].loc[R['node2'] == str(eid2)]['w'].astype('int32').sum()\n",
    "        corr += tmp\n",
    "        if tmp != 0 : \n",
    "            print(str(tmp) + \" : \" + str(eids[eid1]) + \" -> \" + str(eids[eid2]))\n",
    "            \n",
    "        #print(\"tmp : \" + str(tmp)) \n",
    "        #print(\"sum : \" + str(corr))\n",
    "\n",
    "print(corr)\n",
    "\n",
    "\n",
    "\n",
    "\n"
   ]
  },
  {
   "cell_type": "code",
   "execution_count": 16,
   "id": "78cf2b6e",
   "metadata": {},
   "outputs": [
    {
     "data": {
      "text/html": [
       "<div>\n",
       "<style scoped>\n",
       "    .dataframe tbody tr th:only-of-type {\n",
       "        vertical-align: middle;\n",
       "    }\n",
       "\n",
       "    .dataframe tbody tr th {\n",
       "        vertical-align: top;\n",
       "    }\n",
       "\n",
       "    .dataframe thead th {\n",
       "        text-align: right;\n",
       "    }\n",
       "</style>\n",
       "<table border=\"1\" class=\"dataframe\">\n",
       "  <thead>\n",
       "    <tr style=\"text-align: right;\">\n",
       "      <th></th>\n",
       "      <th>r</th>\n",
       "      <th>rid</th>\n",
       "      <th>node1</th>\n",
       "      <th>node2</th>\n",
       "      <th>type</th>\n",
       "      <th>w</th>\n",
       "    </tr>\n",
       "  </thead>\n",
       "  <tbody>\n",
       "    <tr>\n",
       "      <th>52</th>\n",
       "      <td>r</td>\n",
       "      <td>331565389</td>\n",
       "      <td>146753</td>\n",
       "      <td>6370841</td>\n",
       "      <td>0</td>\n",
       "      <td>25</td>\n",
       "    </tr>\n",
       "    <tr>\n",
       "      <th>136</th>\n",
       "      <td>r</td>\n",
       "      <td>330342546</td>\n",
       "      <td>146753</td>\n",
       "      <td>6370841</td>\n",
       "      <td>5</td>\n",
       "      <td>25</td>\n",
       "    </tr>\n",
       "  </tbody>\n",
       "</table>\n",
       "</div>"
      ],
      "text/plain": [
       "     r        rid   node1    node2 type   w\n",
       "52   r  331565389  146753  6370841    0  25\n",
       "136  r  330342546  146753  6370841    5  25"
      ]
     },
     "execution_count": 16,
     "metadata": {},
     "output_type": "execute_result"
    }
   ],
   "source": [
    "idA = 146753\n",
    "idB = 6370841\n",
    "\n",
    "R.loc[R['node2'] == str(idB)]"
   ]
  },
  {
   "cell_type": "code",
   "execution_count": 11,
   "id": "633d4d6e",
   "metadata": {},
   "outputs": [
    {
     "data": {
      "text/html": [
       "<div>\n",
       "<style scoped>\n",
       "    .dataframe tbody tr th:only-of-type {\n",
       "        vertical-align: middle;\n",
       "    }\n",
       "\n",
       "    .dataframe tbody tr th {\n",
       "        vertical-align: top;\n",
       "    }\n",
       "\n",
       "    .dataframe thead th {\n",
       "        text-align: right;\n",
       "    }\n",
       "</style>\n",
       "<table border=\"1\" class=\"dataframe\">\n",
       "  <thead>\n",
       "    <tr style=\"text-align: right;\">\n",
       "      <th></th>\n",
       "      <th>r</th>\n",
       "      <th>rid</th>\n",
       "      <th>node1</th>\n",
       "      <th>node2</th>\n",
       "      <th>type</th>\n",
       "      <th>w</th>\n",
       "    </tr>\n",
       "  </thead>\n",
       "  <tbody>\n",
       "    <tr>\n",
       "      <th>0</th>\n",
       "      <td>r</td>\n",
       "      <td>61944342</td>\n",
       "      <td>146753</td>\n",
       "      <td>114327</td>\n",
       "      <td>0</td>\n",
       "      <td>-28</td>\n",
       "    </tr>\n",
       "    <tr>\n",
       "      <th>1</th>\n",
       "      <td>r</td>\n",
       "      <td>92831767</td>\n",
       "      <td>146753</td>\n",
       "      <td>16747</td>\n",
       "      <td>0</td>\n",
       "      <td>-28</td>\n",
       "    </tr>\n",
       "    <tr>\n",
       "      <th>2</th>\n",
       "      <td>r</td>\n",
       "      <td>60073909</td>\n",
       "      <td>146753</td>\n",
       "      <td>34898</td>\n",
       "      <td>0</td>\n",
       "      <td>-26</td>\n",
       "    </tr>\n",
       "    <tr>\n",
       "      <th>3</th>\n",
       "      <td>r</td>\n",
       "      <td>60077377</td>\n",
       "      <td>146753</td>\n",
       "      <td>77424</td>\n",
       "      <td>0</td>\n",
       "      <td>-22</td>\n",
       "    </tr>\n",
       "    <tr>\n",
       "      <th>4</th>\n",
       "      <td>r</td>\n",
       "      <td>60060666</td>\n",
       "      <td>146753</td>\n",
       "      <td>77008</td>\n",
       "      <td>0</td>\n",
       "      <td>-21</td>\n",
       "    </tr>\n",
       "    <tr>\n",
       "      <th>...</th>\n",
       "      <td>...</td>\n",
       "      <td>...</td>\n",
       "      <td>...</td>\n",
       "      <td>...</td>\n",
       "      <td>...</td>\n",
       "      <td>...</td>\n",
       "    </tr>\n",
       "    <tr>\n",
       "      <th>633</th>\n",
       "      <td>r</td>\n",
       "      <td>438061</td>\n",
       "      <td>25764</td>\n",
       "      <td>146753</td>\n",
       "      <td>0</td>\n",
       "      <td>735</td>\n",
       "    </tr>\n",
       "    <tr>\n",
       "      <th>634</th>\n",
       "      <td>r</td>\n",
       "      <td>11612686</td>\n",
       "      <td>317777</td>\n",
       "      <td>146753</td>\n",
       "      <td>0</td>\n",
       "      <td>803</td>\n",
       "    </tr>\n",
       "    <tr>\n",
       "      <th>635</th>\n",
       "      <td>r</td>\n",
       "      <td>329247835</td>\n",
       "      <td>6370841</td>\n",
       "      <td>146753</td>\n",
       "      <td>0</td>\n",
       "      <td>805</td>\n",
       "    </tr>\n",
       "    <tr>\n",
       "      <th>636</th>\n",
       "      <td>r</td>\n",
       "      <td>13426874</td>\n",
       "      <td>317777</td>\n",
       "      <td>146753</td>\n",
       "      <td>5</td>\n",
       "      <td>809</td>\n",
       "    </tr>\n",
       "    <tr>\n",
       "      <th>637</th>\n",
       "      <td>r</td>\n",
       "      <td>329247968</td>\n",
       "      <td>6370841</td>\n",
       "      <td>146753</td>\n",
       "      <td>5</td>\n",
       "      <td>810</td>\n",
       "    </tr>\n",
       "  </tbody>\n",
       "</table>\n",
       "<p>638 rows × 6 columns</p>\n",
       "</div>"
      ],
      "text/plain": [
       "     r        rid    node1   node2 type    w\n",
       "0    r   61944342   146753  114327    0  -28\n",
       "1    r   92831767   146753   16747    0  -28\n",
       "2    r   60073909   146753   34898    0  -26\n",
       "3    r   60077377   146753   77424    0  -22\n",
       "4    r   60060666   146753   77008    0  -21\n",
       "..  ..        ...      ...     ...  ...  ...\n",
       "633  r     438061    25764  146753    0  735\n",
       "634  r   11612686   317777  146753    0  803\n",
       "635  r  329247835  6370841  146753    0  805\n",
       "636  r   13426874   317777  146753    5  809\n",
       "637  r  329247968  6370841  146753    5  810\n",
       "\n",
       "[638 rows x 6 columns]"
      ]
     },
     "execution_count": 11,
     "metadata": {},
     "output_type": "execute_result"
    }
   ],
   "source": [
    "R"
   ]
  },
  {
   "cell_type": "code",
   "execution_count": null,
   "id": "540aa2fe",
   "metadata": {},
   "outputs": [],
   "source": []
  }
 ],
 "metadata": {
  "kernelspec": {
   "display_name": "Python 3 (ipykernel)",
   "language": "python",
   "name": "python3"
  },
  "language_info": {
   "codemirror_mode": {
    "name": "ipython",
    "version": 3
   },
   "file_extension": ".py",
   "mimetype": "text/x-python",
   "name": "python",
   "nbconvert_exporter": "python",
   "pygments_lexer": "ipython3",
   "version": "3.8.10"
  }
 },
 "nbformat": 4,
 "nbformat_minor": 5
}
