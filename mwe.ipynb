{
 "cells": [
  {
   "cell_type": "code",
   "execution_count": 1,
   "metadata": {},
   "outputs": [],
   "source": [
    "class Trie(object):\n",
    "    def __init__(self,wd=\"\",end=False):\n",
    "        self.br={}; self.end=end\n",
    "        if wd!=\"\": self.addword(wd)\n",
    "    def __repr__(self): # Uniquement pour les tests\n",
    "        br=self.br.__repr__()\n",
    "        m='E,' if self.end else \"\"\n",
    "        return \"T[\"+m+br+\"]\"\n",
    "\n",
    "    def addword(self,wd):\n",
    "        br=self.br\n",
    "        if wd:\n",
    "            c=wd[0]; rst=wd[1:] # Découpage essentiel\n",
    "            if c not in br: \n",
    "                br[c]=Trie() # Nouvelle branche\n",
    "            br[c].addword(rst)\n",
    "        else: \n",
    "            self.end=True # Marqueur de la fin       \n",
    "\n",
    "    def searchword(self,wd):\n",
    "        if self.search(wd): \n",
    "            print(wd + \" is in Trie\")\n",
    "            self.sufix(wd)\n",
    "        else:\n",
    "            print(wd + \" is not in Trie\")\n",
    "\n",
    "    def sufix(self, wd):\n",
    "        br = self.br\n",
    "        for c in wd:\n",
    "            br = br[c]\n",
    "\n",
    "        print(br.words())\n",
    "\n",
    "    def search(self,wd):\n",
    "        br=self.br\n",
    "        if wd:\n",
    "            c=wd[0]; rst=wd[1:] # Découpage essentiel\n",
    "            if c in br : \n",
    "                if len(rst) == 0: \n",
    "                    return True\n",
    "                else : \n",
    "                    return br[c].search(rst)\n",
    "            else : \n",
    "                return False\n",
    "            \n",
    "\n",
    "    def __getitem__(self,c):  # Objet émule une liste/dict.\n",
    "        return self.br[c]\n",
    "\n",
    "    # Renvoie tout les mots du dictionnaire\n",
    "    def words(self):\n",
    "        br=self.br\n",
    "        l=[]\n",
    "        for c in br:\n",
    "            w=br[c].words() # Les suffixes du mot en question\n",
    "            if w==[]: \n",
    "                x=[c] # Si vide\n",
    "            else:\n",
    "                x=[c+h for h in w] # Non vide. c à la tête\n",
    "                if br[c].end: \n",
    "                    x+=[c] # Cas spécial ! \n",
    "            l+=x\n",
    "        return l"
   ]
  },
  {
   "cell_type": "code",
   "execution_count": 2,
   "metadata": {},
   "outputs": [
    {
     "name": "stdout",
     "output_type": "stream",
     "text": [
      "T[{'a': T[{'b': T[{'c': T[E,{'e': T[{'f': T[E,{}]}]}]}], 'p': T[{'e': T[E,{'x': T[{'t': T[E,{}]}]}]}]}], 'n': T[{'e': T[{'w': T[E,{}], 'x': T[{'t': T[E,{}]}]}]}], 'b': T[{'b': T[E,{}]}]}]\n",
      "['abcef', 'abc', 'apext', 'ape', 'new', 'next', 'bb']\n"
     ]
    }
   ],
   "source": [
    "t=Trie(\"abc\") \n",
    "t.addword(\"abcef\")\n",
    "t.addword(\"apext\")\n",
    "t.addword(\"new\")\n",
    "t.addword(\"next\")\n",
    "t.addword(\"ape\")\n",
    "t.addword(\"bb\")\n",
    "rs=t.words()\n",
    "\n",
    "print(t)\n",
    "print(rs)"
   ]
  },
  {
   "cell_type": "code",
   "execution_count": 3,
   "metadata": {},
   "outputs": [
    {
     "name": "stdout",
     "output_type": "stream",
     "text": [
      "a is in Trie\n",
      "['bcef', 'bc', 'pext', 'pe']\n"
     ]
    }
   ],
   "source": [
    "t.searchword(\"a\")"
   ]
  },
  {
   "cell_type": "code",
   "execution_count": 11,
   "metadata": {},
   "outputs": [],
   "source": [
    "f_in = open('MWE/mwe.csv', 'r')\n",
    "Lines = f_in.readlines()\n",
    "f_in.close() \n",
    "\n",
    "f_out = open(\"MWE/mwe_clean.txt\", \"a\")\n",
    "\n",
    "  \n",
    "for line in Lines:\n",
    "    linesplit = line.split(\";\")\n",
    "    f_out.write(linesplit[1].replace('\\\"', '') + \"\\n\")\n",
    "\n",
    "f_out.close()"
   ]
  },
  {
   "cell_type": "code",
   "execution_count": 12,
   "metadata": {},
   "outputs": [],
   "source": [
    "f = open('MWE/mwe_clean.txt', 'r')\n",
    "lines = f.readlines()\n",
    "f.close() \n",
    "\n",
    "t_mwe = Trie()\n",
    "\n",
    "for line in lines: \n",
    "    t_mwe.addword(line) "
   ]
  },
  {
   "cell_type": "code",
   "execution_count": 14,
   "metadata": {},
   "outputs": [
    {
     "name": "stdout",
     "output_type": "stream",
     "text": [
      "petit ch is in Trie\n",
      "['ien\\n', 'ien russe\\n', 'ien retriever\\n', 'ien courant du Jura\\n', 'ien courant de Schwyz\\n', 'ien courant schwyzois\\n', 'ien courant suisse\\n', 'ien courant lucernois\\n', 'ien courant bernois\\n', 'ien lion\\n', 'ien marron\\n', \"ien hollandais de chasse au gibier d'eau\\n\", 'ien hargneux\\n', \"ien d'appartement\\n\", 'iendent\\n', 'ili-cake entre amis\\n', 'ionis\\n', 'ose\\n', 'ou frisé\\n', 'ou frisé effeuillé\\n', 'ou vert\\n', 'ou vert frisé\\n', 'ou de Milan en morceaux\\n', 'ou de Bruxelles\\n', 'ou rouge\\n', 'ou-fleur détaillé en bouquets\\n', 'ou\\n', 'oc\\n', 'anteur\\n', 'aperon rouge\\n', 'apelet des 5 plaies de Jésus crucifié\\n', 'apeau féminin\\n', 'at\\n', 'at-tigre\\n', 'ardon sans épines\\n', 'ariot roulant sur rail\\n', 'ariot\\n', 'alet de camping\\n', 'alet de pays chauds\\n', 'emin\\n', 'emin de village\\n', 'emin qui monte raide\\n', 'ef\\n', 'elem\\n', 'eval\\n', 'evalier à pattes jaunes\\n', 'evalier à pattes jaunes>171870\\n', 'evalier à pattes jaunes>146889\\n', 'evalier\\n', 'eval du Guangxi\\n', 'eval de selle allemand\\n', 'ez soi\\n', 'enapan\\n', 'âtelet\\n', 'âteau de Bellevue\\n', 'âteau fort\\n', 'âteau\\n']\n"
     ]
    }
   ],
   "source": [
    "t_mwe.searchword(\"petit ch\") "
   ]
  }
 ],
 "metadata": {
  "kernelspec": {
   "display_name": "Python 3",
   "language": "python",
   "name": "python3"
  },
  "language_info": {
   "codemirror_mode": {
    "name": "ipython",
    "version": 3
   },
   "file_extension": ".py",
   "mimetype": "text/x-python",
   "name": "python",
   "nbconvert_exporter": "python",
   "pygments_lexer": "ipython3",
   "version": "3.10.6"
  },
  "orig_nbformat": 4,
  "vscode": {
   "interpreter": {
    "hash": "e7370f93d1d0cde622a1f8e1c04877d8463912d04d973331ad4851f04de6915a"
   }
  }
 },
 "nbformat": 4,
 "nbformat_minor": 2
}
