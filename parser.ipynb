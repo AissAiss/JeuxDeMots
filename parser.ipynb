{
 "cells": [
  {
   "cell_type": "markdown",
   "metadata": {},
   "source": [
    "# Parser pour récupérer des données de site www.jeuxdemots.org"
   ]
  },
  {
   "cell_type": "markdown",
   "metadata": {},
   "source": [
    "### improt "
   ]
  },
  {
   "cell_type": "code",
   "execution_count": 1,
   "metadata": {},
   "outputs": [],
   "source": [
    "import requests\n",
    "import pandas as pd "
   ]
  },
  {
   "cell_type": "markdown",
   "metadata": {},
   "source": [
    "### Chorisir son mot "
   ]
  },
  {
   "cell_type": "code",
   "execution_count": 17,
   "metadata": {},
   "outputs": [],
   "source": [
    "PATH_REQUEST = \"data/requests/\"\n",
    "\n",
    "# Arborescence du sysème de fichier \n",
    "PATH_REQUEST = \"data/requests/\"\n",
    "PATH_DEF  = \"data/def/\"\n",
    "PATH_E    = \"data/e/\"\n",
    "PATH_NT   = \"data/nt/\"\n",
    "PATH_RE   = \"data/re/\"\n",
    "PATH_RS   = \"data/rs/\"\n",
    "PATH_RT   = \"data/rt/\"\n",
    "\n",
    "# Exrension des fichiers \n",
    "EXT_REQUEST = \".txt\"\n",
    "EXT_DEF  = \"_def.csv\"\n",
    "EXT_E    = \"_e.csv\"\n",
    "EXT_NT   = \"_nt.csv\"\n",
    "EXT_RE   = \"_re.csv\"\n",
    "EXT_RS   = \"_rs.csv\"\n",
    "EXT_RT   = \"_rt.csv\"\n",
    "\n",
    "mot = \"jambes\""
   ]
  },
  {
   "cell_type": "markdown",
   "metadata": {},
   "source": [
    "### Télécharger la page web contenant les données : "
   ]
  },
  {
   "cell_type": "code",
   "execution_count": 47,
   "metadata": {},
   "outputs": [],
   "source": [
    "def request(mot): \n",
    "    url = 'https://www.jeuxdemots.org/rezo-dump.php?gotermsubmit=Chercher&gotermrel=' + mot + '&rel='\n",
    "    headers = {'content-type': 'application/json', 'Accept-Charset': 'UTF-8'}\n",
    "    r = requests.post(url, headers=headers)\n",
    "\n",
    "    # Enregistrer la requetes dans un fichier text\n",
    "    f = open(PATH_REQUEST + mot + EXT_REQUEST, \"w\")\n",
    "    f.write(r.text)\n",
    "    f.close()\n",
    "\n",
    "    f = open(PATH_REQUEST + mot + EXT_REQUEST, \"r\")\n",
    "    #f = open(PATH_REQUEST + \"goodPage.html\", \"r\")\n",
    "    #f = open(PATH_REQUEST + \"badPage.html\", \"r\")\n",
    "    lines = f.readlines()\n",
    "    f.close()\n",
    "\n",
    "    return \"<br>//&nbsp; &nbsp; &nbsp; WARNING TROP GROS.<br>TOWARD CACHE<br>\\n\" not in lines\n",
    "\n"
   ]
  },
  {
   "cell_type": "markdown",
   "metadata": {},
   "source": [
    "### Parser les données"
   ]
  },
  {
   "cell_type": "code",
   "execution_count": 48,
   "metadata": {},
   "outputs": [],
   "source": [
    "def download(mot): \n",
    "    i = 0\n",
    "\n",
    "    while not request(mot) and i < 5: \n",
    "        print(\"Pb download\")\n",
    "        i += 1"
   ]
  },
  {
   "cell_type": "code",
   "execution_count": 49,
   "metadata": {},
   "outputs": [],
   "source": [
    "download(mot)"
   ]
  },
  {
   "cell_type": "code",
   "execution_count": 40,
   "metadata": {},
   "outputs": [
    {
     "name": "stdout",
     "output_type": "stream",
     "text": [
      "[138, 100171]\n"
     ]
    },
    {
     "data": {
      "text/plain": [
       "{'def': 144, 'nt': 152, 'e': 166, 'rt': 50136, 'rs': 50165, 'end': 100169}"
      ]
     },
     "execution_count": 40,
     "metadata": {},
     "output_type": "execute_result"
    }
   ],
   "source": [
    "f = open(PATH_REQUEST + mot + EXT_REQUEST, \"r\")\n",
    "lines = f.readlines()\n",
    "f.close()\n",
    "\n",
    "\n",
    "code = [lines.index('<CODE>\\n'), lines.index('</CODE>\\n') +1]\n",
    "print(code)\n",
    "\n",
    "index = {}\n",
    "\n",
    "for i in range(code[0], code[1]):\n",
    "    if lines[i] == \"<def>\\n\":\n",
    "        index[\"def\"] = i\n",
    "\n",
    "    if lines[i] == \"// les types de noeuds (Nodes Types) : nt;ntid;'ntname'\\n\":\n",
    "        index[\"nt\"] = i\n",
    "\n",
    "    if lines[i] == \"// les noeuds/termes (Entries) : e;eid;'name';type;w;'formated name' \\n\":\n",
    "        index[\"e\"] = i\n",
    "\n",
    "    if lines[i] == \"// les types de relations (Relation Types) : rt;rtid;'trname';'trgpname';'rthelp' \\n\":\n",
    "        index[\"rt\"] = i\n",
    "\n",
    "    if lines[i] == \"// les relations sortantes : r;rid;node1;node2;type;w \\n\":\n",
    "        index[\"rs\"] = i\n",
    "\n",
    "    if lines[i] == \"// les relations entrantes : r;rid;node1;node2;type;w \\n\":\n",
    "        index[\"re\"] = i \n",
    "\n",
    "    if lines[i] == \"// END\\n\":\n",
    "        index[\"end\"] = i \n",
    "\n",
    "index\n"
   ]
  },
  {
   "cell_type": "code",
   "execution_count": 21,
   "metadata": {},
   "outputs": [],
   "source": [
    "m_def   = open(PATH_DEF + mot + EXT_DEF, \"w\")\n",
    "m_nt    = open(PATH_NT  + mot + EXT_NT,  \"w\")\n",
    "m_e     = open(PATH_E   + mot + EXT_E,   \"w\")\n",
    "m_rt    = open(PATH_RT  + mot + EXT_RT,  \"w\")\n",
    "m_rs    = open(PATH_RS  + mot + EXT_RS,  \"w\")\n",
    "m_re    = open(PATH_RE  + mot + EXT_RE,  \"w\")\n",
    "\n",
    "# Head\n",
    "m_nt.write(\"nt;ntid;ntname\\n\")\n",
    "m_e.write(\"e;eid;name;type;w;help\\n\")\n",
    "m_rt.write(\"rt;rtid;trname;trgpname;rthelp\\n\")\n",
    "m_rs.write(\"r;rid;node1;node2;type;w\\n\")\n",
    "m_re.write(\"r;rid;node1;node2;type;w\\n\")\n",
    "\n",
    "for i in range(index['def'], index['nt']):\n",
    "    m_def.write(lines[i])\n",
    "\n",
    "for i in range(index['nt']+2, index['e']):\n",
    "    m_nt.write(lines[i].replace(\"'\", \"\"))\n",
    "\n",
    "for i in range(index['e']+2, index['rt']):\n",
    "    if lines[i].count(\";\") <= 5:\n",
    "        m_e.write(lines[i].replace(\"'\", \"\"))\n",
    "\n",
    "for i in range(index['rt']+2, index['rs']):\n",
    "    m_rt.write(lines[i].replace(\" ; \", \" \").replace(\"'\", \"\"))\n",
    "\n",
    "if 're' in index and 'rs' in index: \n",
    "    for i in range(index['rs']+2, index['re']):\n",
    "        m_rs.write(lines[i])\n",
    "\n",
    "    for i in range(index['re']+2, index['end']):\n",
    "        m_re.write(lines[i])\n",
    "elif 'rs' in index: \n",
    "    for i in range(index['rs']+2, index['end']):\n",
    "        m_rs.write(lines[i])\n",
    "elif 're' in index: \n",
    "    for i in range(index['re']+2, index['end']):\n",
    "        m_re.write(lines[i])\n",
    "\n",
    "\n",
    "m_def.close()\n",
    "m_nt.close()\n",
    "m_e.close()\n",
    "m_rt.close()\n",
    "m_rs.close()\n",
    "m_re.close()"
   ]
  },
  {
   "cell_type": "code",
   "execution_count": 22,
   "metadata": {},
   "outputs": [],
   "source": [
    "E  = pd.read_csv(PATH_E  + mot + EXT_E,  sep=\";\")\n",
    "NT = pd.read_csv(PATH_NT + mot + EXT_NT, sep=\";\")\n",
    "RE = pd.read_csv(PATH_RE + mot + EXT_RE, sep=\";\")\n",
    "RS = pd.read_csv(PATH_RS + mot + EXT_RS, sep=\";\")\n",
    "RT = pd.read_csv(PATH_RT + mot + EXT_RT, sep=\";\")\n",
    "RT = pd.read_csv(PATH_RT + mot + EXT_RT, sep=\";\")\n",
    "\n"
   ]
  },
  {
   "cell_type": "code",
   "execution_count": 23,
   "metadata": {},
   "outputs": [
    {
     "data": {
      "text/html": [
       "<div>\n",
       "<style scoped>\n",
       "    .dataframe tbody tr th:only-of-type {\n",
       "        vertical-align: middle;\n",
       "    }\n",
       "\n",
       "    .dataframe tbody tr th {\n",
       "        vertical-align: top;\n",
       "    }\n",
       "\n",
       "    .dataframe thead th {\n",
       "        text-align: right;\n",
       "    }\n",
       "</style>\n",
       "<table border=\"1\" class=\"dataframe\">\n",
       "  <thead>\n",
       "    <tr style=\"text-align: right;\">\n",
       "      <th></th>\n",
       "      <th>e</th>\n",
       "      <th>eid</th>\n",
       "      <th>name</th>\n",
       "      <th>type</th>\n",
       "      <th>w</th>\n",
       "      <th>help</th>\n",
       "    </tr>\n",
       "  </thead>\n",
       "  <tbody>\n",
       "    <tr>\n",
       "      <th>0</th>\n",
       "      <td>e</td>\n",
       "      <td>140715</td>\n",
       "      <td>jambes</td>\n",
       "      <td>1</td>\n",
       "      <td>1549</td>\n",
       "      <td>NaN</td>\n",
       "    </tr>\n",
       "    <tr>\n",
       "      <th>1</th>\n",
       "      <td>e</td>\n",
       "      <td>239128</td>\n",
       "      <td>_COM</td>\n",
       "      <td>36</td>\n",
       "      <td>50</td>\n",
       "      <td>NaN</td>\n",
       "    </tr>\n",
       "    <tr>\n",
       "      <th>2</th>\n",
       "      <td>e</td>\n",
       "      <td>2983124</td>\n",
       "      <td>_SW</td>\n",
       "      <td>36</td>\n",
       "      <td>50</td>\n",
       "      <td>NaN</td>\n",
       "    </tr>\n",
       "    <tr>\n",
       "      <th>3</th>\n",
       "      <td>e</td>\n",
       "      <td>241794</td>\n",
       "      <td>_POL-NEUTRE</td>\n",
       "      <td>36</td>\n",
       "      <td>50</td>\n",
       "      <td>NaN</td>\n",
       "    </tr>\n",
       "    <tr>\n",
       "      <th>4</th>\n",
       "      <td>e</td>\n",
       "      <td>15885287</td>\n",
       "      <td>:r413875863</td>\n",
       "      <td>10</td>\n",
       "      <td>0</td>\n",
       "      <td>NaN</td>\n",
       "    </tr>\n",
       "    <tr>\n",
       "      <th>...</th>\n",
       "      <td>...</td>\n",
       "      <td>...</td>\n",
       "      <td>...</td>\n",
       "      <td>...</td>\n",
       "      <td>...</td>\n",
       "      <td>...</td>\n",
       "    </tr>\n",
       "    <tr>\n",
       "      <th>49962</th>\n",
       "      <td>e</td>\n",
       "      <td>153962</td>\n",
       "      <td>félonne</td>\n",
       "      <td>1</td>\n",
       "      <td>50</td>\n",
       "      <td>NaN</td>\n",
       "    </tr>\n",
       "    <tr>\n",
       "      <th>49963</th>\n",
       "      <td>e</td>\n",
       "      <td>78091</td>\n",
       "      <td>malteur</td>\n",
       "      <td>1</td>\n",
       "      <td>50</td>\n",
       "      <td>NaN</td>\n",
       "    </tr>\n",
       "    <tr>\n",
       "      <th>49964</th>\n",
       "      <td>e</td>\n",
       "      <td>3072751</td>\n",
       "      <td>assistante en pharmacie</td>\n",
       "      <td>1</td>\n",
       "      <td>0</td>\n",
       "      <td>NaN</td>\n",
       "    </tr>\n",
       "    <tr>\n",
       "      <th>49965</th>\n",
       "      <td>e</td>\n",
       "      <td>135458</td>\n",
       "      <td>anarchiste</td>\n",
       "      <td>1</td>\n",
       "      <td>1981</td>\n",
       "      <td>NaN</td>\n",
       "    </tr>\n",
       "    <tr>\n",
       "      <th>49966</th>\n",
       "      <td>e</td>\n",
       "      <td>2015604</td>\n",
       "      <td>catcheuse</td>\n",
       "      <td>2</td>\n",
       "      <td>0</td>\n",
       "      <td>NaN</td>\n",
       "    </tr>\n",
       "  </tbody>\n",
       "</table>\n",
       "<p>49967 rows × 6 columns</p>\n",
       "</div>"
      ],
      "text/plain": [
       "       e       eid                     name  type     w help\n",
       "0      e    140715                   jambes     1  1549  NaN\n",
       "1      e    239128                     _COM    36    50  NaN\n",
       "2      e   2983124                      _SW    36    50  NaN\n",
       "3      e    241794              _POL-NEUTRE    36    50  NaN\n",
       "4      e  15885287              :r413875863    10     0  NaN\n",
       "...   ..       ...                      ...   ...   ...  ...\n",
       "49962  e    153962                  félonne     1    50  NaN\n",
       "49963  e     78091                  malteur     1    50  NaN\n",
       "49964  e   3072751  assistante en pharmacie     1     0  NaN\n",
       "49965  e    135458               anarchiste     1  1981  NaN\n",
       "49966  e   2015604                catcheuse     2     0  NaN\n",
       "\n",
       "[49967 rows x 6 columns]"
      ]
     },
     "execution_count": 23,
     "metadata": {},
     "output_type": "execute_result"
    }
   ],
   "source": [
    "E"
   ]
  },
  {
   "cell_type": "markdown",
   "metadata": {},
   "source": [
    "### One Cell"
   ]
  },
  {
   "cell_type": "code",
   "execution_count": 8,
   "metadata": {},
   "outputs": [
    {
     "name": "stdout",
     "output_type": "stream",
     "text": [
      "4\n",
      "7\n"
     ]
    }
   ],
   "source": [
    "badLine = \"e;7109740;en:glossina <genus>;1;0;en:glossina &lt;genus&gt;\"\n",
    "goodLine = \"e;9072515;en:elevator;1;0\"\n",
    "print(goodLine.count(\";\")) \n",
    "print(badLine.count(\";\")) \n",
    "\n",
    "#line.replace(\";\", \"|\", 5)"
   ]
  },
  {
   "cell_type": "code",
   "execution_count": 30,
   "metadata": {},
   "outputs": [
    {
     "name": "stdout",
     "output_type": "stream",
     "text": [
      "La page est bonne !\n"
     ]
    }
   ],
   "source": [
    "f = open(PATH_REQUEST + \"goodPage.html\", \"r\")\n",
    "lines = f.readlines()\n",
    "\n",
    "if \"<br>//&nbsp; &nbsp; &nbsp; WARNING TROP GROS.<br>TOWARD CACHE<br>\\n\" in lines : \n",
    "    print(\"La page n'est pas bonne !\")\n",
    "else : \n",
    "    print (\"La page est bonne !\")\n"
   ]
  },
  {
   "cell_type": "code",
   "execution_count": null,
   "metadata": {},
   "outputs": [],
   "source": []
  }
 ],
 "metadata": {
  "interpreter": {
   "hash": "916dbcbb3f70747c44a77c7bcd40155683ae19c65e1c03b4aa3499c5328201f1"
  },
  "kernelspec": {
   "display_name": "Python 3.8.10 64-bit",
   "language": "python",
   "name": "python3"
  },
  "language_info": {
   "codemirror_mode": {
    "name": "ipython",
    "version": 3
   },
   "file_extension": ".py",
   "mimetype": "text/x-python",
   "name": "python",
   "nbconvert_exporter": "python",
   "pygments_lexer": "ipython3",
   "version": "3.8.10"
  },
  "orig_nbformat": 4
 },
 "nbformat": 4,
 "nbformat_minor": 2
}
