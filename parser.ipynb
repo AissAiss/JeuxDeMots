{
 "cells": [
  {
   "cell_type": "markdown",
   "metadata": {},
   "source": [
    "# Parser pour récupérer des données de site www.jeuxdemots.org"
   ]
  },
  {
   "cell_type": "markdown",
   "metadata": {},
   "source": [
    "### improt "
   ]
  },
  {
   "cell_type": "code",
   "execution_count": 1,
   "metadata": {},
   "outputs": [],
   "source": [
    "import requests\n",
    "import pandas as pd "
   ]
  },
  {
   "cell_type": "markdown",
   "metadata": {},
   "source": [
    "### Chorisir son mot "
   ]
  },
  {
   "cell_type": "code",
   "execution_count": 2,
   "metadata": {},
   "outputs": [],
   "source": [
    "PATH_REQUEST = \"data/requests/\"\n",
    "\n",
    "# Arborescence du sysème de fichier \n",
    "PATH_REQUEST = \"data/requests/\"\n",
    "PATH_DEF  = \"data/def/\"\n",
    "PATH_E    = \"data/e/\"\n",
    "PATH_NT   = \"data/nt/\"\n",
    "PATH_RE   = \"data/re/\"\n",
    "PATH_RS   = \"data/rs/\"\n",
    "PATH_RT   = \"data/rt/\"\n",
    "\n",
    "# Exrension des fichiers \n",
    "EXT_REQUEST = \".txt\"\n",
    "EXT_DEF  = \"_def.csv\"\n",
    "EXT_E    = \"_e.csv\"\n",
    "EXT_NT   = \"_nt.csv\"\n",
    "EXT_RE   = \"_re.csv\"\n",
    "EXT_RS   = \"_rs.csv\"\n",
    "EXT_RT   = \"_rt.csv\"\n",
    "\n",
    "mot = \"chaud\""
   ]
  },
  {
   "cell_type": "markdown",
   "metadata": {},
   "source": [
    "### Télécharger la page web contenant les données : "
   ]
  },
  {
   "cell_type": "code",
   "execution_count": 3,
   "metadata": {},
   "outputs": [],
   "source": [
    "def request(mot): \n",
    "    url = 'https://www.jeuxdemots.org/rezo-dump.php?gotermsubmit=Chercher&gotermrel=' + mot + '&rel='\n",
    "    headers = {'content-type': 'application/json', 'Accept-Charset': 'UTF-8'}\n",
    "    r = requests.post(url, headers=headers)\n",
    "\n",
    "    # Enregistrer la requetes dans un fichier text\n",
    "    f = open(PATH_REQUEST + mot + EXT_REQUEST, \"w\")\n",
    "    f.write(r.text)\n",
    "    f.close()\n",
    "\n",
    "    f = open(PATH_REQUEST + mot + EXT_REQUEST, \"r\")\n",
    "    #f = open(PATH_REQUEST + \"goodPage.html\", \"r\")\n",
    "    #f = open(PATH_REQUEST + \"badPage.html\", \"r\")\n",
    "    lines = f.readlines()\n",
    "    f.close()\n",
    "\n",
    "    return \"<br>//&nbsp; &nbsp; &nbsp; WARNING TROP GROS.<br>TOWARD CACHE<br>\\n\" not in lines\n",
    "\n"
   ]
  },
  {
   "cell_type": "markdown",
   "metadata": {},
   "source": [
    "### Parser les données"
   ]
  },
  {
   "cell_type": "code",
   "execution_count": 4,
   "metadata": {},
   "outputs": [],
   "source": [
    "def download(mot): \n",
    "    i = 0\n",
    "\n",
    "    while not request(mot) and i < 5: \n",
    "        print(\"Pb download\")\n",
    "        i += 1"
   ]
  },
  {
   "cell_type": "code",
   "execution_count": 5,
   "metadata": {},
   "outputs": [],
   "source": [
    "download(mot)"
   ]
  },
  {
   "cell_type": "code",
   "execution_count": 6,
   "metadata": {},
   "outputs": [
    {
     "name": "stdout",
     "output_type": "stream",
     "text": [
      "[138, 7412]\n"
     ]
    },
    {
     "data": {
      "text/plain": [
       "{'def': 141,\n",
       " 'nt': 147,\n",
       " 'e': 163,\n",
       " 'rt': 2672,\n",
       " 'rs': 2730,\n",
       " 're': 4845,\n",
       " 'end': 7410}"
      ]
     },
     "execution_count": 6,
     "metadata": {},
     "output_type": "execute_result"
    }
   ],
   "source": [
    "f = open(PATH_REQUEST + mot + EXT_REQUEST, \"r\")\n",
    "lines = f.readlines()\n",
    "f.close()\n",
    "\n",
    "\n",
    "code = [lines.index('<CODE>\\n'), lines.index('</CODE>\\n') +1]\n",
    "print(code)\n",
    "\n",
    "index = {}\n",
    "\n",
    "for i in range(code[0], code[1]):\n",
    "    if lines[i] == \"<def>\\n\":\n",
    "        index[\"def\"] = i\n",
    "\n",
    "    if lines[i] == \"// les types de noeuds (Nodes Types) : nt;ntid;'ntname'\\n\":\n",
    "        index[\"nt\"] = i\n",
    "\n",
    "    if lines[i] == \"// les noeuds/termes (Entries) : e;eid;'name';type;w;'formated name' \\n\":\n",
    "        index[\"e\"] = i\n",
    "\n",
    "    if lines[i] == \"// les types de relations (Relation Types) : rt;rtid;'trname';'trgpname';'rthelp' \\n\":\n",
    "        index[\"rt\"] = i\n",
    "\n",
    "    if lines[i] == \"// les relations sortantes : r;rid;node1;node2;type;w \\n\":\n",
    "        index[\"rs\"] = i\n",
    "\n",
    "    if lines[i] == \"// les relations entrantes : r;rid;node1;node2;type;w \\n\":\n",
    "        index[\"re\"] = i \n",
    "\n",
    "    if lines[i] == \"// END\\n\":\n",
    "        index[\"end\"] = i \n",
    "\n",
    "index\n"
   ]
  },
  {
   "cell_type": "code",
   "execution_count": 7,
   "metadata": {},
   "outputs": [],
   "source": [
    "m_def   = open(PATH_DEF + mot + EXT_DEF, \"w\")\n",
    "m_nt    = open(PATH_NT  + mot + EXT_NT,  \"w\")\n",
    "m_e     = open(PATH_E   + mot + EXT_E,   \"w\")\n",
    "m_rt    = open(PATH_RT  + mot + EXT_RT,  \"w\")\n",
    "m_rs    = open(PATH_RS  + mot + EXT_RS,  \"w\")\n",
    "m_re    = open(PATH_RE  + mot + EXT_RE,  \"w\")\n",
    "\n",
    "# Head\n",
    "m_nt.write(\"nt;ntid;ntname\\n\")\n",
    "m_e.write(\"e;eid;name;type;w;help\\n\")\n",
    "m_rt.write(\"rt;rtid;trname;trgpname;rthelp\\n\")\n",
    "m_rs.write(\"r;rid;node1;node2;type;w\\n\")\n",
    "m_re.write(\"r;rid;node1;node2;type;w\\n\")\n",
    "\n",
    "for i in range(index['def'], index['nt']):\n",
    "    m_def.write(lines[i])\n",
    "\n",
    "for i in range(index['nt']+2, index['e']):\n",
    "    m_nt.write(lines[i].replace(\"'\", \"\"))\n",
    "\n",
    "for i in range(index['e']+2, index['rt']):\n",
    "    if lines[i].count(\";\") <= 5:\n",
    "        m_e.write(lines[i].replace(\"'\", \"\"))\n",
    "\n",
    "for i in range(index['rt']+2, index['rs']):\n",
    "    m_rt.write(lines[i].replace(\" ; \", \" \").replace(\"'\", \"\"))\n",
    "\n",
    "if 're' in index and 'rs' in index: \n",
    "    for i in range(index['rs']+2, index['re']):\n",
    "        m_rs.write(lines[i])\n",
    "\n",
    "    for i in range(index['re']+2, index['end']):\n",
    "        m_re.write(lines[i])\n",
    "elif 'rs' in index: \n",
    "    for i in range(index['rs']+2, index['end']):\n",
    "        m_rs.write(lines[i])\n",
    "elif 're' in index: \n",
    "    for i in range(index['re']+2, index['end']):\n",
    "        m_re.write(lines[i])\n",
    "\n",
    "\n",
    "m_def.close()\n",
    "m_nt.close()\n",
    "m_e.close()\n",
    "m_rt.close()\n",
    "m_rs.close()\n",
    "m_re.close()"
   ]
  },
  {
   "cell_type": "code",
   "execution_count": 27,
   "metadata": {},
   "outputs": [],
   "source": [
    "E  = pd.read_csv(PATH_E  + mot + EXT_E,  sep=\";\")\n",
    "NT = pd.read_csv(PATH_NT + mot + EXT_NT, sep=\";\")\n",
    "RE = pd.read_csv(PATH_RE + mot + EXT_RE, sep=\";\")\n",
    "RS = pd.read_csv(PATH_RS + mot + EXT_RS, sep=\";\")\n",
    "RT = pd.read_csv(PATH_RT + mot + EXT_RT, sep=\";\")\n",
    "R  = pd.concat([RE, RS])"
   ]
  },
  {
   "cell_type": "code",
   "execution_count": 28,
   "metadata": {},
   "outputs": [
    {
     "data": {
      "text/html": [
       "<div>\n",
       "<style scoped>\n",
       "    .dataframe tbody tr th:only-of-type {\n",
       "        vertical-align: middle;\n",
       "    }\n",
       "\n",
       "    .dataframe tbody tr th {\n",
       "        vertical-align: top;\n",
       "    }\n",
       "\n",
       "    .dataframe thead th {\n",
       "        text-align: right;\n",
       "    }\n",
       "</style>\n",
       "<table border=\"1\" class=\"dataframe\">\n",
       "  <thead>\n",
       "    <tr style=\"text-align: right;\">\n",
       "      <th></th>\n",
       "      <th>r</th>\n",
       "      <th>rid</th>\n",
       "      <th>node1</th>\n",
       "      <th>node2</th>\n",
       "      <th>type</th>\n",
       "      <th>w</th>\n",
       "    </tr>\n",
       "  </thead>\n",
       "  <tbody>\n",
       "    <tr>\n",
       "      <th>0</th>\n",
       "      <td>r</td>\n",
       "      <td>61298259</td>\n",
       "      <td>114327</td>\n",
       "      <td>19150</td>\n",
       "      <td>0</td>\n",
       "      <td>-82</td>\n",
       "    </tr>\n",
       "    <tr>\n",
       "      <th>1</th>\n",
       "      <td>r</td>\n",
       "      <td>60569902</td>\n",
       "      <td>74846</td>\n",
       "      <td>19150</td>\n",
       "      <td>0</td>\n",
       "      <td>-36</td>\n",
       "    </tr>\n",
       "    <tr>\n",
       "      <th>2</th>\n",
       "      <td>r</td>\n",
       "      <td>60571678</td>\n",
       "      <td>95422</td>\n",
       "      <td>19150</td>\n",
       "      <td>0</td>\n",
       "      <td>-34</td>\n",
       "    </tr>\n",
       "    <tr>\n",
       "      <th>3</th>\n",
       "      <td>r</td>\n",
       "      <td>60564180</td>\n",
       "      <td>139779</td>\n",
       "      <td>19150</td>\n",
       "      <td>0</td>\n",
       "      <td>-32</td>\n",
       "    </tr>\n",
       "    <tr>\n",
       "      <th>4</th>\n",
       "      <td>r</td>\n",
       "      <td>80440940</td>\n",
       "      <td>16747</td>\n",
       "      <td>19150</td>\n",
       "      <td>0</td>\n",
       "      <td>-32</td>\n",
       "    </tr>\n",
       "    <tr>\n",
       "      <th>...</th>\n",
       "      <td>...</td>\n",
       "      <td>...</td>\n",
       "      <td>...</td>\n",
       "      <td>...</td>\n",
       "      <td>...</td>\n",
       "      <td>...</td>\n",
       "    </tr>\n",
       "    <tr>\n",
       "      <th>2107</th>\n",
       "      <td>r</td>\n",
       "      <td>284258069</td>\n",
       "      <td>19150</td>\n",
       "      <td>1960596</td>\n",
       "      <td>999</td>\n",
       "      <td>30</td>\n",
       "    </tr>\n",
       "    <tr>\n",
       "      <th>2108</th>\n",
       "      <td>r</td>\n",
       "      <td>473638927</td>\n",
       "      <td>19150</td>\n",
       "      <td>1218553</td>\n",
       "      <td>2000</td>\n",
       "      <td>10</td>\n",
       "    </tr>\n",
       "    <tr>\n",
       "      <th>2109</th>\n",
       "      <td>r</td>\n",
       "      <td>333902933</td>\n",
       "      <td>19150</td>\n",
       "      <td>1218554</td>\n",
       "      <td>2000</td>\n",
       "      <td>15</td>\n",
       "    </tr>\n",
       "    <tr>\n",
       "      <th>2110</th>\n",
       "      <td>r</td>\n",
       "      <td>307601219</td>\n",
       "      <td>19150</td>\n",
       "      <td>439630</td>\n",
       "      <td>2000</td>\n",
       "      <td>25</td>\n",
       "    </tr>\n",
       "    <tr>\n",
       "      <th>2111</th>\n",
       "      <td>r</td>\n",
       "      <td>307601220</td>\n",
       "      <td>19150</td>\n",
       "      <td>157025</td>\n",
       "      <td>2000</td>\n",
       "      <td>25</td>\n",
       "    </tr>\n",
       "  </tbody>\n",
       "</table>\n",
       "<p>4674 rows × 6 columns</p>\n",
       "</div>"
      ],
      "text/plain": [
       "      r        rid   node1    node2  type   w\n",
       "0     r   61298259  114327    19150     0 -82\n",
       "1     r   60569902   74846    19150     0 -36\n",
       "2     r   60571678   95422    19150     0 -34\n",
       "3     r   60564180  139779    19150     0 -32\n",
       "4     r   80440940   16747    19150     0 -32\n",
       "...  ..        ...     ...      ...   ...  ..\n",
       "2107  r  284258069   19150  1960596   999  30\n",
       "2108  r  473638927   19150  1218553  2000  10\n",
       "2109  r  333902933   19150  1218554  2000  15\n",
       "2110  r  307601219   19150   439630  2000  25\n",
       "2111  r  307601220   19150   157025  2000  25\n",
       "\n",
       "[4674 rows x 6 columns]"
      ]
     },
     "execution_count": 28,
     "metadata": {},
     "output_type": "execute_result"
    }
   ],
   "source": [
    "R"
   ]
  },
  {
   "cell_type": "markdown",
   "metadata": {},
   "source": [
    "### One Cell"
   ]
  },
  {
   "cell_type": "code",
   "execution_count": 8,
   "metadata": {},
   "outputs": [
    {
     "name": "stdout",
     "output_type": "stream",
     "text": [
      "4\n",
      "7\n"
     ]
    }
   ],
   "source": [
    "badLine = \"e;7109740;en:glossina <genus>;1;0;en:glossina &lt;genus&gt;\"\n",
    "goodLine = \"e;9072515;en:elevator;1;0\"\n",
    "print(goodLine.count(\";\")) \n",
    "print(badLine.count(\";\")) \n",
    "\n",
    "#line.replace(\";\", \"|\", 5)"
   ]
  },
  {
   "cell_type": "code",
   "execution_count": 30,
   "metadata": {},
   "outputs": [
    {
     "name": "stdout",
     "output_type": "stream",
     "text": [
      "La page est bonne !\n"
     ]
    }
   ],
   "source": [
    "f = open(PATH_REQUEST + \"goodPage.html\", \"r\")\n",
    "lines = f.readlines()\n",
    "\n",
    "if \"<br>//&nbsp; &nbsp; &nbsp; WARNING TROP GROS.<br>TOWARD CACHE<br>\\n\" in lines : \n",
    "    print(\"La page n'est pas bonne !\")\n",
    "else : \n",
    "    print (\"La page est bonne !\")\n"
   ]
  },
  {
   "cell_type": "code",
   "execution_count": null,
   "metadata": {},
   "outputs": [],
   "source": []
  }
 ],
 "metadata": {
  "interpreter": {
   "hash": "916dbcbb3f70747c44a77c7bcd40155683ae19c65e1c03b4aa3499c5328201f1"
  },
  "kernelspec": {
   "display_name": "Python 3.8.10 64-bit",
   "language": "python",
   "name": "python3"
  },
  "language_info": {
   "codemirror_mode": {
    "name": "ipython",
    "version": 3
   },
   "file_extension": ".py",
   "mimetype": "text/x-python",
   "name": "python",
   "nbconvert_exporter": "python",
   "pygments_lexer": "ipython3",
   "version": "3.8.10"
  },
  "orig_nbformat": 4
 },
 "nbformat": 4,
 "nbformat_minor": 2
}
