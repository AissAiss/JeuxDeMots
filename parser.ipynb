{
 "cells": [
  {
   "cell_type": "markdown",
   "metadata": {},
   "source": [
    "# Parser pour récupérer des données de site www.jeuxdemots.org"
   ]
  },
  {
   "cell_type": "markdown",
   "metadata": {},
   "source": [
    "### improt "
   ]
  },
  {
   "cell_type": "code",
   "execution_count": 1,
   "metadata": {},
   "outputs": [],
   "source": [
    "import requests\n",
    "import pandas as pd "
   ]
  },
  {
   "cell_type": "markdown",
   "metadata": {},
   "source": [
    "### Chorisir son mot "
   ]
  },
  {
   "cell_type": "code",
   "execution_count": 15,
   "metadata": {},
   "outputs": [],
   "source": [
    "PATH_REQUEST = \"data/requests/\"\n",
    "\n",
    "# Arborescence du sysème de fichier \n",
    "PATH_REQUEST = \"data/requests/\"\n",
    "PATH_DEF  = \"data/def/\"\n",
    "PATH_E    = \"data/e/\"\n",
    "PATH_NT   = \"data/nt/\"\n",
    "PATH_RE   = \"data/re/\"\n",
    "PATH_RS   = \"data/rs/\"\n",
    "PATH_RT   = \"data/rt/\"\n",
    "\n",
    "# Exrension des fichiers \n",
    "EXT_REQUEST = \".txt\"\n",
    "EXT_DEF  = \"_def.csv\"\n",
    "EXT_E    = \"_e.csv\"\n",
    "EXT_NT   = \"_nt.csv\"\n",
    "EXT_RE   = \"_re.csv\"\n",
    "EXT_RS   = \"_rs.csv\"\n",
    "EXT_RT   = \"_rt.csv\"\n",
    "\n",
    "mot = \"bite\""
   ]
  },
  {
   "cell_type": "markdown",
   "metadata": {},
   "source": [
    "### Télécharger la page web contenant les données : "
   ]
  },
  {
   "cell_type": "code",
   "execution_count": 16,
   "metadata": {},
   "outputs": [],
   "source": [
    "url = 'https://www.jeuxdemots.org/rezo-dump.php?gotermsubmit=Chercher&gotermrel=' + mot + '&rel='\n",
    "headers = {'content-type': 'application/json', 'Accept-Charset': 'UTF-8'}\n",
    "r = requests.post(url, headers=headers)\n",
    "\n",
    "# Enregistrer la requetes dans un fichier text\n",
    "f = open(PATH_REQUEST + mot + EXT_REQUEST, \"w\")\n",
    "f.write(r.text)\n",
    "f.close()"
   ]
  },
  {
   "cell_type": "markdown",
   "metadata": {},
   "source": [
    "### Parser les données"
   ]
  },
  {
   "cell_type": "code",
   "execution_count": 17,
   "metadata": {},
   "outputs": [
    {
     "name": "stdout",
     "output_type": "stream",
     "text": [
      "3058\n"
     ]
    }
   ],
   "source": [
    "f = open(PATH_REQUEST + mot + EXT_REQUEST, \"r\")\n",
    "lines = f.readlines()\n",
    "\n",
    "print(len(lines))"
   ]
  },
  {
   "cell_type": "code",
   "execution_count": 18,
   "metadata": {},
   "outputs": [
    {
     "name": "stdout",
     "output_type": "stream",
     "text": [
      "[138, 3052]\n"
     ]
    },
    {
     "data": {
      "text/plain": [
       "{'def': 141,\n",
       " 'nt': 173,\n",
       " 'e': 187,\n",
       " 'rt': 1175,\n",
       " 'rs': 1228,\n",
       " 're': 2073,\n",
       " 'end': 3050}"
      ]
     },
     "execution_count": 18,
     "metadata": {},
     "output_type": "execute_result"
    }
   ],
   "source": [
    "\n",
    "code = [lines.index('<CODE>\\n'), lines.index('</CODE>\\n') +1]\n",
    "print(code)\n",
    "\n",
    "index = {}\n",
    "\n",
    "for i in range(code[0], code[1]):\n",
    "    if lines[i] == \"<def>\\n\":\n",
    "        index[\"def\"] = i\n",
    "\n",
    "    if lines[i] == \"// les types de noeuds (Nodes Types) : nt;ntid;'ntname'\\n\":\n",
    "        index[\"nt\"] = i\n",
    "\n",
    "    if lines[i] == \"// les noeuds/termes (Entries) : e;eid;'name';type;w;'formated name' \\n\":\n",
    "        index[\"e\"] = i\n",
    "\n",
    "    if lines[i] == \"// les types de relations (Relation Types) : rt;rtid;'trname';'trgpname';'rthelp' \\n\":\n",
    "        index[\"rt\"] = i\n",
    "\n",
    "    if lines[i] == \"// les relations sortantes : r;rid;node1;node2;type;w \\n\":\n",
    "        index[\"rs\"] = i\n",
    "\n",
    "    if lines[i] == \"// les relations entrantes : r;rid;node1;node2;type;w \\n\":\n",
    "        index[\"re\"] = i \n",
    "\n",
    "    if lines[i] == \"// END\\n\":\n",
    "        index[\"end\"] = i \n",
    "\n",
    "index\n"
   ]
  },
  {
   "cell_type": "code",
   "execution_count": 27,
   "metadata": {},
   "outputs": [],
   "source": [
    "m_def   = open(PATH_DEF + mot + EXT_DEF, \"w\")\n",
    "m_nt    = open(PATH_NT  + mot + EXT_NT,  \"w\")\n",
    "m_e     = open(PATH_E   + mot + EXT_E,   \"w\")\n",
    "m_rt    = open(PATH_RT  + mot + EXT_RT,  \"w\")\n",
    "m_rs    = open(PATH_RS  + mot + EXT_RS,  \"w\")\n",
    "m_re    = open(PATH_RE  + mot + EXT_RE,  \"w\")\n",
    "\n",
    "# Head\n",
    "m_nt.write(\"nt;ntid;ntname\\n\")\n",
    "m_e.write(\"e;eid;name;type;w;help\\n\")\n",
    "m_rt.write(\"rt;rtid;trname;trgpname;rthelp\\n\")\n",
    "m_rs.write(\"r;rid;node1;node2;type;w\\n\")\n",
    "m_re.write(\"r;rid;node1;node2;type;w\\n\")\n",
    "\n",
    "for i in range(index['def'], index['nt']):\n",
    "    m_def.write(lines[i])\n",
    "\n",
    "for i in range(index['nt']+2, index['e']):\n",
    "    m_nt.write(lines[i].replace(\"'\", \"\"))\n",
    "\n",
    "for i in range(index['e']+2, index['rt']):\n",
    "    m_e.write(lines[i].replace(\"'\", \"\"))\n",
    "\n",
    "for i in range(index['rt']+2, index['rs']):\n",
    "    m_rt.write(lines[i].replace(\" ; \", \" \").replace(\"'\", \"\")) # Modifier les séparateur pour éviter les pb à l'ouverture\n",
    "\n",
    "for i in range(index['rs']+2, index['re']):\n",
    "    m_rs.write(lines[i])\n",
    "\n",
    "for i in range(index['re']+2, index['end']):\n",
    "    m_re.write(lines[i])\n",
    "\n",
    "m_def.close()\n",
    "m_nt.close()\n",
    "m_e.close()\n",
    "m_rt.close()\n",
    "m_rs.close()\n",
    "m_re.close()"
   ]
  },
  {
   "cell_type": "code",
   "execution_count": null,
   "metadata": {},
   "outputs": [],
   "source": [
    "E  = pd.read_csv(PATH_E  + mot + EXT_E,  sep=\";\")\n",
    "NT = pd.read_csv(PATH_NT + mot + EXT_NT, sep=\";\")\n",
    "RE = pd.read_csv(PATH_RE + mot + EXT_RE, sep=\";\")\n",
    "RS = pd.read_csv(PATH_RS + mot + EXT_RS, sep=\";\")\n",
    "RT = pd.read_csv(PATH_RT + mot + EXT_RT, sep=\";\")\n",
    "\n"
   ]
  },
  {
   "cell_type": "markdown",
   "metadata": {},
   "source": [
    "### One Cell"
   ]
  },
  {
   "cell_type": "code",
   "execution_count": 28,
   "metadata": {},
   "outputs": [
    {
     "ename": "ParserError",
     "evalue": "Error tokenizing data. C error: Expected 5 fields in line 30, saw 8\n",
     "output_type": "error",
     "traceback": [
      "\u001b[0;31m---------------------------------------------------------------------------\u001b[0m",
      "\u001b[0;31mParserError\u001b[0m                               Traceback (most recent call last)",
      "\u001b[1;32m/home/oem/Workspace/Python/JeuxDeMots/parser.ipynb Cell 14'\u001b[0m in \u001b[0;36m<cell line: 1>\u001b[0;34m()\u001b[0m\n\u001b[0;32m----> <a href='vscode-notebook-cell:/home/oem/Workspace/Python/JeuxDeMots/parser.ipynb#ch0000015?line=0'>1</a>\u001b[0m RT \u001b[39m=\u001b[39m pd\u001b[39m.\u001b[39;49mread_csv(PATH_RT \u001b[39m+\u001b[39;49m mot \u001b[39m+\u001b[39;49m EXT_RT, sep\u001b[39m=\u001b[39;49m\u001b[39m\"\u001b[39;49m\u001b[39m;\u001b[39;49m\u001b[39m\"\u001b[39;49m)\n",
      "File \u001b[0;32m~/.local/lib/python3.8/site-packages/pandas/util/_decorators.py:311\u001b[0m, in \u001b[0;36mdeprecate_nonkeyword_arguments.<locals>.decorate.<locals>.wrapper\u001b[0;34m(*args, **kwargs)\u001b[0m\n\u001b[1;32m    <a href='file:///~/.local/lib/python3.8/site-packages/pandas/util/_decorators.py?line=304'>305</a>\u001b[0m \u001b[39mif\u001b[39;00m \u001b[39mlen\u001b[39m(args) \u001b[39m>\u001b[39m num_allow_args:\n\u001b[1;32m    <a href='file:///~/.local/lib/python3.8/site-packages/pandas/util/_decorators.py?line=305'>306</a>\u001b[0m     warnings\u001b[39m.\u001b[39mwarn(\n\u001b[1;32m    <a href='file:///~/.local/lib/python3.8/site-packages/pandas/util/_decorators.py?line=306'>307</a>\u001b[0m         msg\u001b[39m.\u001b[39mformat(arguments\u001b[39m=\u001b[39marguments),\n\u001b[1;32m    <a href='file:///~/.local/lib/python3.8/site-packages/pandas/util/_decorators.py?line=307'>308</a>\u001b[0m         \u001b[39mFutureWarning\u001b[39;00m,\n\u001b[1;32m    <a href='file:///~/.local/lib/python3.8/site-packages/pandas/util/_decorators.py?line=308'>309</a>\u001b[0m         stacklevel\u001b[39m=\u001b[39mstacklevel,\n\u001b[1;32m    <a href='file:///~/.local/lib/python3.8/site-packages/pandas/util/_decorators.py?line=309'>310</a>\u001b[0m     )\n\u001b[0;32m--> <a href='file:///~/.local/lib/python3.8/site-packages/pandas/util/_decorators.py?line=310'>311</a>\u001b[0m \u001b[39mreturn\u001b[39;00m func(\u001b[39m*\u001b[39;49margs, \u001b[39m*\u001b[39;49m\u001b[39m*\u001b[39;49mkwargs)\n",
      "File \u001b[0;32m~/.local/lib/python3.8/site-packages/pandas/io/parsers/readers.py:680\u001b[0m, in \u001b[0;36mread_csv\u001b[0;34m(filepath_or_buffer, sep, delimiter, header, names, index_col, usecols, squeeze, prefix, mangle_dupe_cols, dtype, engine, converters, true_values, false_values, skipinitialspace, skiprows, skipfooter, nrows, na_values, keep_default_na, na_filter, verbose, skip_blank_lines, parse_dates, infer_datetime_format, keep_date_col, date_parser, dayfirst, cache_dates, iterator, chunksize, compression, thousands, decimal, lineterminator, quotechar, quoting, doublequote, escapechar, comment, encoding, encoding_errors, dialect, error_bad_lines, warn_bad_lines, on_bad_lines, delim_whitespace, low_memory, memory_map, float_precision, storage_options)\u001b[0m\n\u001b[1;32m    <a href='file:///~/.local/lib/python3.8/site-packages/pandas/io/parsers/readers.py?line=664'>665</a>\u001b[0m kwds_defaults \u001b[39m=\u001b[39m _refine_defaults_read(\n\u001b[1;32m    <a href='file:///~/.local/lib/python3.8/site-packages/pandas/io/parsers/readers.py?line=665'>666</a>\u001b[0m     dialect,\n\u001b[1;32m    <a href='file:///~/.local/lib/python3.8/site-packages/pandas/io/parsers/readers.py?line=666'>667</a>\u001b[0m     delimiter,\n\u001b[0;32m   (...)\u001b[0m\n\u001b[1;32m    <a href='file:///~/.local/lib/python3.8/site-packages/pandas/io/parsers/readers.py?line=675'>676</a>\u001b[0m     defaults\u001b[39m=\u001b[39m{\u001b[39m\"\u001b[39m\u001b[39mdelimiter\u001b[39m\u001b[39m\"\u001b[39m: \u001b[39m\"\u001b[39m\u001b[39m,\u001b[39m\u001b[39m\"\u001b[39m},\n\u001b[1;32m    <a href='file:///~/.local/lib/python3.8/site-packages/pandas/io/parsers/readers.py?line=676'>677</a>\u001b[0m )\n\u001b[1;32m    <a href='file:///~/.local/lib/python3.8/site-packages/pandas/io/parsers/readers.py?line=677'>678</a>\u001b[0m kwds\u001b[39m.\u001b[39mupdate(kwds_defaults)\n\u001b[0;32m--> <a href='file:///~/.local/lib/python3.8/site-packages/pandas/io/parsers/readers.py?line=679'>680</a>\u001b[0m \u001b[39mreturn\u001b[39;00m _read(filepath_or_buffer, kwds)\n",
      "File \u001b[0;32m~/.local/lib/python3.8/site-packages/pandas/io/parsers/readers.py:581\u001b[0m, in \u001b[0;36m_read\u001b[0;34m(filepath_or_buffer, kwds)\u001b[0m\n\u001b[1;32m    <a href='file:///~/.local/lib/python3.8/site-packages/pandas/io/parsers/readers.py?line=577'>578</a>\u001b[0m     \u001b[39mreturn\u001b[39;00m parser\n\u001b[1;32m    <a href='file:///~/.local/lib/python3.8/site-packages/pandas/io/parsers/readers.py?line=579'>580</a>\u001b[0m \u001b[39mwith\u001b[39;00m parser:\n\u001b[0;32m--> <a href='file:///~/.local/lib/python3.8/site-packages/pandas/io/parsers/readers.py?line=580'>581</a>\u001b[0m     \u001b[39mreturn\u001b[39;00m parser\u001b[39m.\u001b[39;49mread(nrows)\n",
      "File \u001b[0;32m~/.local/lib/python3.8/site-packages/pandas/io/parsers/readers.py:1250\u001b[0m, in \u001b[0;36mTextFileReader.read\u001b[0;34m(self, nrows)\u001b[0m\n\u001b[1;32m   <a href='file:///~/.local/lib/python3.8/site-packages/pandas/io/parsers/readers.py?line=1247'>1248</a>\u001b[0m nrows \u001b[39m=\u001b[39m validate_integer(\u001b[39m\"\u001b[39m\u001b[39mnrows\u001b[39m\u001b[39m\"\u001b[39m, nrows)\n\u001b[1;32m   <a href='file:///~/.local/lib/python3.8/site-packages/pandas/io/parsers/readers.py?line=1248'>1249</a>\u001b[0m \u001b[39mtry\u001b[39;00m:\n\u001b[0;32m-> <a href='file:///~/.local/lib/python3.8/site-packages/pandas/io/parsers/readers.py?line=1249'>1250</a>\u001b[0m     index, columns, col_dict \u001b[39m=\u001b[39m \u001b[39mself\u001b[39;49m\u001b[39m.\u001b[39;49m_engine\u001b[39m.\u001b[39;49mread(nrows)\n\u001b[1;32m   <a href='file:///~/.local/lib/python3.8/site-packages/pandas/io/parsers/readers.py?line=1250'>1251</a>\u001b[0m \u001b[39mexcept\u001b[39;00m \u001b[39mException\u001b[39;00m:\n\u001b[1;32m   <a href='file:///~/.local/lib/python3.8/site-packages/pandas/io/parsers/readers.py?line=1251'>1252</a>\u001b[0m     \u001b[39mself\u001b[39m\u001b[39m.\u001b[39mclose()\n",
      "File \u001b[0;32m~/.local/lib/python3.8/site-packages/pandas/io/parsers/c_parser_wrapper.py:225\u001b[0m, in \u001b[0;36mCParserWrapper.read\u001b[0;34m(self, nrows)\u001b[0m\n\u001b[1;32m    <a href='file:///~/.local/lib/python3.8/site-packages/pandas/io/parsers/c_parser_wrapper.py?line=222'>223</a>\u001b[0m \u001b[39mtry\u001b[39;00m:\n\u001b[1;32m    <a href='file:///~/.local/lib/python3.8/site-packages/pandas/io/parsers/c_parser_wrapper.py?line=223'>224</a>\u001b[0m     \u001b[39mif\u001b[39;00m \u001b[39mself\u001b[39m\u001b[39m.\u001b[39mlow_memory:\n\u001b[0;32m--> <a href='file:///~/.local/lib/python3.8/site-packages/pandas/io/parsers/c_parser_wrapper.py?line=224'>225</a>\u001b[0m         chunks \u001b[39m=\u001b[39m \u001b[39mself\u001b[39;49m\u001b[39m.\u001b[39;49m_reader\u001b[39m.\u001b[39;49mread_low_memory(nrows)\n\u001b[1;32m    <a href='file:///~/.local/lib/python3.8/site-packages/pandas/io/parsers/c_parser_wrapper.py?line=225'>226</a>\u001b[0m         \u001b[39m# destructive to chunks\u001b[39;00m\n\u001b[1;32m    <a href='file:///~/.local/lib/python3.8/site-packages/pandas/io/parsers/c_parser_wrapper.py?line=226'>227</a>\u001b[0m         data \u001b[39m=\u001b[39m _concatenate_chunks(chunks)\n",
      "File \u001b[0;32m~/.local/lib/python3.8/site-packages/pandas/_libs/parsers.pyx:805\u001b[0m, in \u001b[0;36mpandas._libs.parsers.TextReader.read_low_memory\u001b[0;34m()\u001b[0m\n",
      "File \u001b[0;32m~/.local/lib/python3.8/site-packages/pandas/_libs/parsers.pyx:861\u001b[0m, in \u001b[0;36mpandas._libs.parsers.TextReader._read_rows\u001b[0;34m()\u001b[0m\n",
      "File \u001b[0;32m~/.local/lib/python3.8/site-packages/pandas/_libs/parsers.pyx:847\u001b[0m, in \u001b[0;36mpandas._libs.parsers.TextReader._tokenize_rows\u001b[0;34m()\u001b[0m\n",
      "File \u001b[0;32m~/.local/lib/python3.8/site-packages/pandas/_libs/parsers.pyx:1960\u001b[0m, in \u001b[0;36mpandas._libs.parsers.raise_parser_error\u001b[0;34m()\u001b[0m\n",
      "\u001b[0;31mParserError\u001b[0m: Error tokenizing data. C error: Expected 5 fields in line 30, saw 8\n"
     ]
    }
   ],
   "source": [
    "RT = pd.read_csv(PATH_RT + mot + EXT_RT, sep=\";\")"
   ]
  },
  {
   "cell_type": "code",
   "execution_count": null,
   "metadata": {},
   "outputs": [],
   "source": []
  }
 ],
 "metadata": {
  "interpreter": {
   "hash": "916dbcbb3f70747c44a77c7bcd40155683ae19c65e1c03b4aa3499c5328201f1"
  },
  "kernelspec": {
   "display_name": "Python 3.8.10 64-bit",
   "language": "python",
   "name": "python3"
  },
  "language_info": {
   "codemirror_mode": {
    "name": "ipython",
    "version": 3
   },
   "file_extension": ".py",
   "mimetype": "text/x-python",
   "name": "python",
   "nbconvert_exporter": "python",
   "pygments_lexer": "ipython3",
   "version": "3.8.10"
  },
  "orig_nbformat": 4
 },
 "nbformat": 4,
 "nbformat_minor": 2
}
